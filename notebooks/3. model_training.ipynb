{
 "cells": [
  {
   "cell_type": "markdown",
   "metadata": {},
   "source": [
    "# Model Training"
   ]
  },
  {
   "cell_type": "markdown",
   "metadata": {},
   "source": [
    "In this section, we will try to train the dataset using several different algorithms and compare them to get the best model trained."
   ]
  },
  {
   "cell_type": "markdown",
   "metadata": {},
   "source": [
    "## Importing Libaries and Loading Dataset"
   ]
  },
  {
   "cell_type": "code",
   "execution_count": 1,
   "metadata": {},
   "outputs": [
    {
     "name": "stderr",
     "output_type": "stream",
     "text": [
      "/home/er_bim/productivity-prediction/venv/lib/python3.10/site-packages/numpy/_core/getlimits.py:545: UserWarning: Signature b'\\x00\\xd0\\xcc\\xcc\\xcc\\xcc\\xcc\\xcc\\xfb\\xbf\\x00\\x00\\x00\\x00\\x00\\x00' for <class 'numpy.longdouble'> does not match any known type: falling back to type probe function.\n",
      "This warnings indicates broken support for the dtype!\n",
      "  machar = _get_machar(dtype)\n"
     ]
    }
   ],
   "source": [
    "import numpy as np\n",
    "import pandas as pd\n",
    "import matplotlib.pyplot as plt \n",
    "import seaborn as sns\n",
    "\n",
    "\n",
    "from sklearn.metrics import mean_squared_error, mean_absolute_error, r2_score\n",
    "from sklearn.neighbors import KNeighborsRegressor\n",
    "from sklearn.tree import DecisionTreeRegressor\n",
    "from sklearn.ensemble import RandomForestRegressor,AdaBoostRegressor\n",
    "from sklearn.svm import SVR\n",
    "from sklearn.linear_model import LinearRegression, Ridge,Lasso\n",
    "from xgboost import XGBRegressor\n",
    "import warnings"
   ]
  },
  {
   "cell_type": "code",
   "execution_count": 2,
   "metadata": {},
   "outputs": [],
   "source": [
    "# load the dataset\n",
    "df = pd.read_csv('/home/er_bim/productivity-prediction/notebooks/data/worker_productivity_processed.csv')"
   ]
  },
  {
   "cell_type": "markdown",
   "metadata": {},
   "source": [
    "## Prepare the Dataset for Modelling Process"
   ]
  },
  {
   "cell_type": "markdown",
   "metadata": {},
   "source": [
    "### Separate the predictors and target"
   ]
  },
  {
   "cell_type": "markdown",
   "metadata": {},
   "source": [
    "First, we separate the features in the dataset as predictors and target.\n",
    "\n",
    "The target (y variable) feature is `actual_producticity`, thus the rest of the of the features after the feature `date` is eliminated are the predictors (X variables)."
   ]
  },
  {
   "cell_type": "code",
   "execution_count": 3,
   "metadata": {},
   "outputs": [
    {
     "name": "stdout",
     "output_type": "stream",
     "text": [
      "The predictors consist of 11 columns and 1108 rows.\n",
      "\n",
      "The target column is actual_productivity which consist of 1108 rows.\n"
     ]
    }
   ],
   "source": [
    "# set the X variables\n",
    "X = df.drop(columns=['date', 'actual_productivity'],axis=1)\n",
    "\n",
    "# set the y variable\n",
    "y = df['actual_productivity']\n",
    "\n",
    "# recheck the shape of each variable\n",
    "print(f\"The predictors consist of {X.shape[1]} columns and {X.shape[0]} rows.\\n\" )\n",
    "print(f\"The target column is {y.name} which consist of {y.shape[0]} rows.\" )"
   ]
  },
  {
   "cell_type": "code",
   "execution_count": 4,
   "metadata": {},
   "outputs": [
    {
     "data": {
      "text/html": [
       "<div>\n",
       "<style scoped>\n",
       "    .dataframe tbody tr th:only-of-type {\n",
       "        vertical-align: middle;\n",
       "    }\n",
       "\n",
       "    .dataframe tbody tr th {\n",
       "        vertical-align: top;\n",
       "    }\n",
       "\n",
       "    .dataframe thead th {\n",
       "        text-align: right;\n",
       "    }\n",
       "</style>\n",
       "<table border=\"1\" class=\"dataframe\">\n",
       "  <thead>\n",
       "    <tr style=\"text-align: right;\">\n",
       "      <th></th>\n",
       "      <th>week</th>\n",
       "      <th>department</th>\n",
       "      <th>day</th>\n",
       "      <th>team</th>\n",
       "      <th>targeted_productivity</th>\n",
       "      <th>smv</th>\n",
       "      <th>wip</th>\n",
       "      <th>over_time</th>\n",
       "      <th>incentive</th>\n",
       "      <th>no_of_style_change</th>\n",
       "      <th>no_of_workers</th>\n",
       "    </tr>\n",
       "  </thead>\n",
       "  <tbody>\n",
       "    <tr>\n",
       "      <th>0</th>\n",
       "      <td>Week1</td>\n",
       "      <td>sewing</td>\n",
       "      <td>Thursday</td>\n",
       "      <td>8</td>\n",
       "      <td>0.80</td>\n",
       "      <td>26.16</td>\n",
       "      <td>1108</td>\n",
       "      <td>7080</td>\n",
       "      <td>98</td>\n",
       "      <td>0</td>\n",
       "      <td>59</td>\n",
       "    </tr>\n",
       "    <tr>\n",
       "      <th>1</th>\n",
       "      <td>Week1</td>\n",
       "      <td>finishing</td>\n",
       "      <td>Thursday</td>\n",
       "      <td>1</td>\n",
       "      <td>0.75</td>\n",
       "      <td>3.94</td>\n",
       "      <td>802</td>\n",
       "      <td>960</td>\n",
       "      <td>0</td>\n",
       "      <td>0</td>\n",
       "      <td>8</td>\n",
       "    </tr>\n",
       "    <tr>\n",
       "      <th>2</th>\n",
       "      <td>Week1</td>\n",
       "      <td>sewing</td>\n",
       "      <td>Thursday</td>\n",
       "      <td>11</td>\n",
       "      <td>0.80</td>\n",
       "      <td>11.41</td>\n",
       "      <td>968</td>\n",
       "      <td>3660</td>\n",
       "      <td>50</td>\n",
       "      <td>0</td>\n",
       "      <td>31</td>\n",
       "    </tr>\n",
       "  </tbody>\n",
       "</table>\n",
       "</div>"
      ],
      "text/plain": [
       "    week department       day  team  targeted_productivity    smv   wip  \\\n",
       "0  Week1     sewing  Thursday     8                   0.80  26.16  1108   \n",
       "1  Week1  finishing  Thursday     1                   0.75   3.94   802   \n",
       "2  Week1     sewing  Thursday    11                   0.80  11.41   968   \n",
       "\n",
       "   over_time  incentive  no_of_style_change  no_of_workers  \n",
       "0       7080         98                   0             59  \n",
       "1        960          0                   0              8  \n",
       "2       3660         50                   0             31  "
      ]
     },
     "execution_count": 4,
     "metadata": {},
     "output_type": "execute_result"
    }
   ],
   "source": [
    "# recheck the predictors\n",
    "X.head(3)"
   ]
  },
  {
   "cell_type": "code",
   "execution_count": 5,
   "metadata": {},
   "outputs": [
    {
     "data": {
      "text/plain": [
       "0    0.940725\n",
       "1    0.886500\n",
       "2    0.800570\n",
       "Name: actual_productivity, dtype: float64"
      ]
     },
     "execution_count": 5,
     "metadata": {},
     "output_type": "execute_result"
    }
   ],
   "source": [
    "# recheck the target column\n",
    "y.head(3)"
   ]
  },
  {
   "cell_type": "markdown",
   "metadata": {},
   "source": [
    "### Split the Dataset into Train and Test Sets"
   ]
  },
  {
   "cell_type": "markdown",
   "metadata": {},
   "source": [
    "I will split the dataset into 70% train and 30% test."
   ]
  },
  {
   "cell_type": "code",
   "execution_count": 6,
   "metadata": {},
   "outputs": [],
   "source": [
    "# separate dataset into train and test\n",
    "from sklearn.model_selection import train_test_split\n",
    "\n",
    "X_train, X_test, y_train, y_test = train_test_split(X,y,test_size=0.3,random_state=22)"
   ]
  },
  {
   "cell_type": "markdown",
   "metadata": {},
   "source": [
    "### Transform the predictors value"
   ]
  },
  {
   "cell_type": "markdown",
   "metadata": {},
   "source": [
    "The categorical features need to be encoded to fit the model training; I chose the one-hot encoding method for this dataset.\n",
    "\n",
    "For the numerical features, I want to do the experiment that both will be trained; the first one will be trained as the original value, and the second will be transformed first to make the value compacted. I choose the robust scaler transformation method."
   ]
  },
  {
   "cell_type": "code",
   "execution_count": 14,
   "metadata": {},
   "outputs": [],
   "source": [
    "# create instance for numerical and categorical features\n",
    "num = X._get_numeric_data().columns\n",
    "cat = X.drop(num, axis = 1).columns"
   ]
  },
  {
   "cell_type": "code",
   "execution_count": 17,
   "metadata": {},
   "outputs": [],
   "source": [
    "# import libaries for column transformer\n",
    "from sklearn.preprocessing import OneHotEncoder, StandardScaler, RobustScaler\n",
    "from sklearn.compose import ColumnTransformer\n",
    "\n",
    "std_scaler = StandardScaler()\n",
    "rob_scaler = RobustScaler()\n",
    "cat_encoder = OneHotEncoder()\n",
    "\n",
    "# create column transformer pipeline for original value numerical features\n",
    "preprocessor1 = ColumnTransformer([(\"OneHotEncoder\", cat_encoder, cat), \n",
    "                                  (\"passthrough\", \"passthrough\", num)]\n",
    "                                )\n",
    "\n",
    "# create column transformer pipeline for standard scaled numerical features\n",
    "preprocessor2 = ColumnTransformer([(\"OneHotEncoder\", cat_encoder, cat), \n",
    "                                  (\"StandardScaler\", std_scaler, num)]\n",
    "                                )\n",
    "\n",
    "# create column transformer pipeline for robust scaled numerical features\n",
    "preprocessor3 = ColumnTransformer([(\"OneHotEncoder\", cat_encoder, cat), \n",
    "                                  (\"RobustScaler\", rob_scaler, num)]\n",
    "                                )"
   ]
  },
  {
   "cell_type": "code",
   "execution_count": 18,
   "metadata": {},
   "outputs": [
    {
     "name": "stdout",
     "output_type": "stream",
     "text": [
      "Basic statistical summary of predictors with original value: \n",
      "\n",
      "               13          14          15           16            17  \\\n",
      "count  775.000000  775.000000  775.000000   775.000000    775.000000   \n",
      "mean     6.500645    0.736258   15.207742   937.432258   4580.290323   \n",
      "std      3.454344    0.078882   10.949873   282.068981   3275.150126   \n",
      "min      1.000000    0.500000    2.900000     7.000000      0.000000   \n",
      "25%      3.000000    0.700000    3.940000   814.000000   1440.000000   \n",
      "50%      7.000000    0.750000   15.260000   847.000000   4080.000000   \n",
      "75%      9.500000    0.800000   25.605000  1086.000000   6915.000000   \n",
      "max     12.000000    0.800000   51.020000  1871.000000  15000.000000   \n",
      "\n",
      "               18         19          20  \n",
      "count  775.000000  775.00000  775.000000  \n",
      "mean    24.938065    0.16129   34.327742  \n",
      "std     28.094824    0.44727   22.171424  \n",
      "min      0.000000    0.00000    2.000000  \n",
      "25%      0.000000    0.00000    9.000000  \n",
      "50%      0.000000    0.00000   34.000000  \n",
      "75%     50.000000    0.00000   57.000000  \n",
      "max    113.000000    2.00000   89.000000  \n"
     ]
    }
   ],
   "source": [
    "# fit and transform X_train with original value in numerical features\n",
    "X_train_ori = preprocessor1.fit_transform(X_train)\n",
    "\n",
    "# transform X_test with original value in numerical features\n",
    "X_test_ori = preprocessor1.transform(X_test)\n",
    "\n",
    "# show the statistical summary\n",
    "print(f\"Basic statistical summary of predictors with original value: \\n\\n{pd.DataFrame(X_train_ori).loc[:, 13:20].describe()}\")"
   ]
  },
  {
   "cell_type": "code",
   "execution_count": 19,
   "metadata": {},
   "outputs": [
    {
     "name": "stdout",
     "output_type": "stream",
     "text": [
      "Basic statistical summary of predictors with standard scaled value: \n",
      "\n",
      "                 13            14            15            16            17  \\\n",
      "count  7.750000e+02  7.750000e+02  7.750000e+02  7.750000e+02  7.750000e+02   \n",
      "mean  -9.168293e-17  1.001636e-15  3.438110e-17  1.833659e-16  7.793049e-17   \n",
      "std    1.000646e+00  1.000646e+00  1.000646e+00  1.000646e+00  1.000646e+00   \n",
      "min   -1.593413e+00 -2.997006e+00 -1.124734e+00 -3.300728e+00 -1.399401e+00   \n",
      "25%   -1.014058e+00 -4.599446e-01 -1.029694e+00 -4.378786e-01 -9.594425e-01   \n",
      "50%    1.446519e-01  1.743206e-01  4.775563e-03 -3.208104e-01 -1.528520e-01   \n",
      "75%    8.688456e-01  8.085859e-01  9.501455e-01  5.270473e-01  7.133161e-01   \n",
      "max    1.593039e+00  8.085859e-01  3.272676e+00  3.311852e+00  3.183499e+00   \n",
      "\n",
      "                 18            19            20  \n",
      "count  7.750000e+02  7.750000e+02  7.750000e+02  \n",
      "mean   4.125732e-17  2.406677e-17 -2.177470e-17  \n",
      "std    1.000646e+00  1.000646e+00  1.000646e+00  \n",
      "min   -8.882123e-01 -3.608439e-01 -1.459023e+00  \n",
      "25%   -8.882123e-01 -3.608439e-01 -1.143097e+00  \n",
      "50%   -8.882123e-01 -3.608439e-01 -1.479172e-02  \n",
      "75%    8.926242e-01 -3.608439e-01  1.023250e+00  \n",
      "max    3.136478e+00  4.113621e+00  2.467481e+00  \n"
     ]
    }
   ],
   "source": [
    "# fit and transform X_train with original value in numerical features\n",
    "X_train_std_scaled = preprocessor2.fit_transform(X_train)\n",
    "\n",
    "# transform X_test with original value in numerical features\n",
    "X_test_std_scaled = preprocessor2.transform(X_test)\n",
    "\n",
    "# show the statistical summary\n",
    "print(f\"Basic statistical summary of predictors with standard scaled value: \\n\\n{pd.DataFrame(X_train_std_scaled).loc[:, 13:20].describe()}\")"
   ]
  },
  {
   "cell_type": "code",
   "execution_count": 20,
   "metadata": {},
   "outputs": [
    {
     "name": "stdout",
     "output_type": "stream",
     "text": [
      "Basic statistical summary of predictors with robust scaled value: \n",
      "\n",
      "               13          14          15          16          17          18  \\\n",
      "count  775.000000  775.000000  775.000000  775.000000  775.000000  775.000000   \n",
      "mean    -0.076824   -0.137419   -0.002412    0.332472    0.091377    0.498761   \n",
      "std      0.531438    0.788823    0.505418    1.037018    0.598201    0.561896   \n",
      "min     -0.923077   -2.500000   -0.570505   -3.088235   -0.745205    0.000000   \n",
      "25%     -0.615385   -0.500000   -0.522502   -0.121324   -0.482192    0.000000   \n",
      "50%      0.000000    0.000000    0.000000    0.000000    0.000000    0.000000   \n",
      "75%      0.384615    0.500000    0.477498    0.878676    0.517808    1.000000   \n",
      "max      0.769231    0.500000    1.650589    3.764706    1.994521    2.260000   \n",
      "\n",
      "              19          20  \n",
      "count  775.00000  775.000000  \n",
      "mean     0.16129    0.006828  \n",
      "std      0.44727    0.461905  \n",
      "min      0.00000   -0.666667  \n",
      "25%      0.00000   -0.520833  \n",
      "50%      0.00000    0.000000  \n",
      "75%      0.00000    0.479167  \n",
      "max      2.00000    1.145833  \n"
     ]
    }
   ],
   "source": [
    "# fit and transform X_train with original value in numerical features\n",
    "X_train_rob_scaled = preprocessor3.fit_transform(X_train)\n",
    "\n",
    "# transform X_test with original value in numerical features\n",
    "X_test_rob_scaled = preprocessor2.transform(X_test)\n",
    "\n",
    "# show the statistical summary\n",
    "print(f\"Basic statistical summary of predictors with robust scaled value: \\n\\n{pd.DataFrame(X_train_rob_scaled).loc[:, 13:20].describe()}\")"
   ]
  },
  {
   "cell_type": "markdown",
   "metadata": {},
   "source": [
    "## Model Training"
   ]
  },
  {
   "cell_type": "markdown",
   "metadata": {},
   "source": [
    "Now we try to do the modelling process of the dataset."
   ]
  },
  {
   "cell_type": "code",
   "execution_count": 21,
   "metadata": {},
   "outputs": [],
   "source": [
    "# create the function for model evaluation \n",
    "def evaluate_model(true, predicted):\n",
    "    mae = mean_absolute_error(true, predicted)\n",
    "    mse = mean_squared_error(true, predicted)\n",
    "    rmse = np.sqrt(mean_squared_error(true, predicted))\n",
    "    r2_square = r2_score(true, predicted)\n",
    "    return mae, rmse, r2_square"
   ]
  },
  {
   "cell_type": "markdown",
   "metadata": {},
   "source": [
    "### Original Value Predictors"
   ]
  },
  {
   "cell_type": "code",
   "execution_count": 23,
   "metadata": {},
   "outputs": [
    {
     "name": "stdout",
     "output_type": "stream",
     "text": [
      "Linear Regression\n",
      "Model performance for Training set\n",
      "- Root Mean Squared Error: 0.1284\n",
      "- Mean Absolute Error: 0.0912\n",
      "- R2 Score: 0.3884\n",
      "----------------------------------\n",
      "Model performance for Test set\n",
      "- Root Mean Squared Error: 0.1411\n",
      "- Mean Absolute Error: 0.0991\n",
      "- R2 Score: 0.2358\n",
      "===================================\n",
      "\n",
      "\n",
      "Lasso\n",
      "Model performance for Training set\n",
      "- Root Mean Squared Error: 0.1602\n",
      "- Mean Absolute Error: 0.1236\n",
      "- R2 Score: 0.0480\n",
      "----------------------------------\n",
      "Model performance for Test set\n",
      "- Root Mean Squared Error: 0.1578\n",
      "- Mean Absolute Error: 0.1197\n",
      "- R2 Score: 0.0441\n",
      "===================================\n",
      "\n",
      "\n",
      "Ridge\n",
      "Model performance for Training set\n",
      "- Root Mean Squared Error: 0.1288\n",
      "- Mean Absolute Error: 0.0918\n",
      "- R2 Score: 0.3851\n",
      "----------------------------------\n",
      "Model performance for Test set\n",
      "- Root Mean Squared Error: 0.1411\n",
      "- Mean Absolute Error: 0.0998\n",
      "- R2 Score: 0.2352\n",
      "===================================\n",
      "\n",
      "\n",
      "SVR\n",
      "Model performance for Training set\n",
      "- Root Mean Squared Error: 0.1614\n",
      "- Mean Absolute Error: 0.1241\n",
      "- R2 Score: 0.0346\n",
      "----------------------------------\n",
      "Model performance for Test set\n",
      "- Root Mean Squared Error: 0.1595\n",
      "- Mean Absolute Error: 0.1201\n",
      "- R2 Score: 0.0230\n",
      "===================================\n",
      "\n",
      "\n",
      "K-Neighbors Regressor\n",
      "Model performance for Training set\n",
      "- Root Mean Squared Error: 0.1272\n",
      "- Mean Absolute Error: 0.0899\n",
      "- R2 Score: 0.4001\n",
      "----------------------------------\n",
      "Model performance for Test set\n",
      "- Root Mean Squared Error: 0.1603\n",
      "- Mean Absolute Error: 0.1193\n",
      "- R2 Score: 0.0133\n",
      "===================================\n",
      "\n",
      "\n",
      "Decision Tree\n",
      "Model performance for Training set\n",
      "- Root Mean Squared Error: 0.0000\n",
      "- Mean Absolute Error: 0.0000\n",
      "- R2 Score: 1.0000\n",
      "----------------------------------\n",
      "Model performance for Test set\n",
      "- Root Mean Squared Error: 0.1675\n",
      "- Mean Absolute Error: 0.1009\n",
      "- R2 Score: -0.0774\n",
      "===================================\n",
      "\n",
      "\n",
      "Random Forest Regressor\n",
      "Model performance for Training set\n",
      "- Root Mean Squared Error: 0.0466\n",
      "- Mean Absolute Error: 0.0289\n",
      "- R2 Score: 0.9196\n",
      "----------------------------------\n",
      "Model performance for Test set\n",
      "- Root Mean Squared Error: 0.1281\n",
      "- Mean Absolute Error: 0.0810\n",
      "- R2 Score: 0.3702\n",
      "===================================\n",
      "\n",
      "\n",
      "XGBRegressor\n",
      "Model performance for Training set\n",
      "- Root Mean Squared Error: 0.0088\n",
      "- Mean Absolute Error: 0.0052\n",
      "- R2 Score: 0.9971\n",
      "----------------------------------\n",
      "Model performance for Test set\n",
      "- Root Mean Squared Error: 0.1358\n",
      "- Mean Absolute Error: 0.0859\n",
      "- R2 Score: 0.2918\n",
      "===================================\n",
      "\n",
      "\n",
      "AdaBoost Regressor\n",
      "Model performance for Training set\n",
      "- Root Mean Squared Error: 0.1309\n",
      "- Mean Absolute Error: 0.0979\n",
      "- R2 Score: 0.3650\n",
      "----------------------------------\n",
      "Model performance for Test set\n",
      "- Root Mean Squared Error: 0.1398\n",
      "- Mean Absolute Error: 0.1036\n",
      "- R2 Score: 0.2492\n",
      "===================================\n",
      "\n",
      "\n"
     ]
    }
   ],
   "source": [
    "# create list of training algorithms\n",
    "models = {\n",
    "    \"Linear Regression\": LinearRegression(),\n",
    "    \"Lasso\": Lasso(random_state=12),\n",
    "    \"Ridge\": Ridge(random_state=23),\n",
    "    \"SVR\": SVR(),\n",
    "    \"K-Neighbors Regressor\": KNeighborsRegressor(),\n",
    "    \"Decision Tree\": DecisionTreeRegressor(random_state=34),\n",
    "    \"Random Forest Regressor\": RandomForestRegressor(random_state=45),\n",
    "    \"XGBRegressor\": XGBRegressor(random_state=56),\n",
    "    \"AdaBoost Regressor\": AdaBoostRegressor(random_state=67)\n",
    "}\n",
    "model_list = []\n",
    "r2_list =[]\n",
    "\n",
    "# Define the train and test datasets\n",
    "X_train=X_train_ori\n",
    "X_test=X_test_ori\n",
    "\n",
    "# display the model evaluation for each algorithm\n",
    "for i in range(len(list(models))):\n",
    "    model = list(models.values())[i]\n",
    "    model.fit(X_train, y_train) # Train model\n",
    "\n",
    "    # Make predictions\n",
    "    y_train_pred = model.predict(X_train)\n",
    "    y_test_pred = model.predict(X_test)\n",
    "    \n",
    "    # Evaluate Train and Test dataset\n",
    "    model_train_mae , model_train_rmse, model_train_r2 = evaluate_model(y_train, y_train_pred)\n",
    "\n",
    "    model_test_mae , model_test_rmse, model_test_r2 = evaluate_model(y_test, y_test_pred)\n",
    "\n",
    "    \n",
    "    print(list(models.keys())[i])\n",
    "    model_list.append(list(models.keys())[i])\n",
    "    \n",
    "    print('Model performance for Training set')\n",
    "    print(\"- Root Mean Squared Error: {:.4f}\".format(model_train_rmse))\n",
    "    print(\"- Mean Absolute Error: {:.4f}\".format(model_train_mae))\n",
    "    print(\"- R2 Score: {:.4f}\".format(model_train_r2))\n",
    "\n",
    "    print('----------------------------------')\n",
    "    \n",
    "    print('Model performance for Test set')\n",
    "    print(\"- Root Mean Squared Error: {:.4f}\".format(model_test_rmse))\n",
    "    print(\"- Mean Absolute Error: {:.4f}\".format(model_test_mae))\n",
    "    print(\"- R2 Score: {:.4f}\".format(model_test_r2))\n",
    "    r2_list.append(model_test_r2)\n",
    "    \n",
    "    print('='*35)\n",
    "    print('\\n')"
   ]
  },
  {
   "cell_type": "code",
   "execution_count": 24,
   "metadata": {},
   "outputs": [
    {
     "data": {
      "text/html": [
       "<div>\n",
       "<style scoped>\n",
       "    .dataframe tbody tr th:only-of-type {\n",
       "        vertical-align: middle;\n",
       "    }\n",
       "\n",
       "    .dataframe tbody tr th {\n",
       "        vertical-align: top;\n",
       "    }\n",
       "\n",
       "    .dataframe thead th {\n",
       "        text-align: right;\n",
       "    }\n",
       "</style>\n",
       "<table border=\"1\" class=\"dataframe\">\n",
       "  <thead>\n",
       "    <tr style=\"text-align: right;\">\n",
       "      <th></th>\n",
       "      <th>Model Name</th>\n",
       "      <th>R2_Score</th>\n",
       "    </tr>\n",
       "  </thead>\n",
       "  <tbody>\n",
       "    <tr>\n",
       "      <th>6</th>\n",
       "      <td>Random Forest Regressor</td>\n",
       "      <td>0.370244</td>\n",
       "    </tr>\n",
       "    <tr>\n",
       "      <th>7</th>\n",
       "      <td>XGBRegressor</td>\n",
       "      <td>0.291778</td>\n",
       "    </tr>\n",
       "    <tr>\n",
       "      <th>8</th>\n",
       "      <td>AdaBoost Regressor</td>\n",
       "      <td>0.249229</td>\n",
       "    </tr>\n",
       "    <tr>\n",
       "      <th>0</th>\n",
       "      <td>Linear Regression</td>\n",
       "      <td>0.235821</td>\n",
       "    </tr>\n",
       "    <tr>\n",
       "      <th>2</th>\n",
       "      <td>Ridge</td>\n",
       "      <td>0.235193</td>\n",
       "    </tr>\n",
       "    <tr>\n",
       "      <th>1</th>\n",
       "      <td>Lasso</td>\n",
       "      <td>0.044109</td>\n",
       "    </tr>\n",
       "    <tr>\n",
       "      <th>3</th>\n",
       "      <td>SVR</td>\n",
       "      <td>0.022994</td>\n",
       "    </tr>\n",
       "    <tr>\n",
       "      <th>4</th>\n",
       "      <td>K-Neighbors Regressor</td>\n",
       "      <td>0.013329</td>\n",
       "    </tr>\n",
       "    <tr>\n",
       "      <th>5</th>\n",
       "      <td>Decision Tree</td>\n",
       "      <td>-0.077407</td>\n",
       "    </tr>\n",
       "  </tbody>\n",
       "</table>\n",
       "</div>"
      ],
      "text/plain": [
       "                Model Name  R2_Score\n",
       "6  Random Forest Regressor  0.370244\n",
       "7             XGBRegressor  0.291778\n",
       "8       AdaBoost Regressor  0.249229\n",
       "0        Linear Regression  0.235821\n",
       "2                    Ridge  0.235193\n",
       "1                    Lasso  0.044109\n",
       "3                      SVR  0.022994\n",
       "4    K-Neighbors Regressor  0.013329\n",
       "5            Decision Tree -0.077407"
      ]
     },
     "execution_count": 24,
     "metadata": {},
     "output_type": "execute_result"
    }
   ],
   "source": [
    "result_original_predictors = pd.DataFrame(list(zip(model_list, r2_list)), columns=['Model Name', 'R2_Score']).sort_values(by=[\"R2_Score\"],ascending=False)\n",
    "result_original_predictors"
   ]
  },
  {
   "cell_type": "markdown",
   "metadata": {},
   "source": [
    "### Standard Scaled Value Predictors"
   ]
  },
  {
   "cell_type": "code",
   "execution_count": 25,
   "metadata": {},
   "outputs": [
    {
     "name": "stdout",
     "output_type": "stream",
     "text": [
      "Linear Regression\n",
      "Model performance for Training set\n",
      "- Root Mean Squared Error: 0.1284\n",
      "- Mean Absolute Error: 0.0912\n",
      "- R2 Score: 0.3884\n",
      "----------------------------------\n",
      "Model performance for Test set\n",
      "- Root Mean Squared Error: 0.1411\n",
      "- Mean Absolute Error: 0.0991\n",
      "- R2 Score: 0.2358\n",
      "===================================\n",
      "\n",
      "\n",
      "Lasso\n",
      "Model performance for Training set\n",
      "- Root Mean Squared Error: 0.1642\n",
      "- Mean Absolute Error: 0.1284\n",
      "- R2 Score: 0.0000\n",
      "----------------------------------\n",
      "Model performance for Test set\n",
      "- Root Mean Squared Error: 0.1614\n",
      "- Mean Absolute Error: 0.1239\n",
      "- R2 Score: -0.0003\n",
      "===================================\n",
      "\n",
      "\n",
      "Ridge\n",
      "Model performance for Training set\n",
      "- Root Mean Squared Error: 0.1284\n",
      "- Mean Absolute Error: 0.0911\n",
      "- R2 Score: 0.3884\n",
      "----------------------------------\n",
      "Model performance for Test set\n",
      "- Root Mean Squared Error: 0.1410\n",
      "- Mean Absolute Error: 0.0990\n",
      "- R2 Score: 0.2366\n",
      "===================================\n",
      "\n",
      "\n",
      "SVR\n",
      "Model performance for Training set\n",
      "- Root Mean Squared Error: 0.1089\n",
      "- Mean Absolute Error: 0.0800\n",
      "- R2 Score: 0.5605\n",
      "----------------------------------\n",
      "Model performance for Test set\n",
      "- Root Mean Squared Error: 0.1390\n",
      "- Mean Absolute Error: 0.0986\n",
      "- R2 Score: 0.2586\n",
      "===================================\n",
      "\n",
      "\n",
      "K-Neighbors Regressor\n",
      "Model performance for Training set\n",
      "- Root Mean Squared Error: 0.1122\n",
      "- Mean Absolute Error: 0.0744\n",
      "- R2 Score: 0.5332\n",
      "----------------------------------\n",
      "Model performance for Test set\n",
      "- Root Mean Squared Error: 0.1392\n",
      "- Mean Absolute Error: 0.0913\n",
      "- R2 Score: 0.2562\n",
      "===================================\n",
      "\n",
      "\n",
      "Decision Tree\n",
      "Model performance for Training set\n",
      "- Root Mean Squared Error: 0.0000\n",
      "- Mean Absolute Error: 0.0000\n",
      "- R2 Score: 1.0000\n",
      "----------------------------------\n",
      "Model performance for Test set\n",
      "- Root Mean Squared Error: 0.1675\n",
      "- Mean Absolute Error: 0.1008\n",
      "- R2 Score: -0.0769\n",
      "===================================\n",
      "\n",
      "\n",
      "Random Forest Regressor\n",
      "Model performance for Training set\n",
      "- Root Mean Squared Error: 0.0466\n",
      "- Mean Absolute Error: 0.0289\n",
      "- R2 Score: 0.9196\n",
      "----------------------------------\n",
      "Model performance for Test set\n",
      "- Root Mean Squared Error: 0.1281\n",
      "- Mean Absolute Error: 0.0811\n",
      "- R2 Score: 0.3696\n",
      "===================================\n",
      "\n",
      "\n",
      "XGBRegressor\n",
      "Model performance for Training set\n",
      "- Root Mean Squared Error: 0.0088\n",
      "- Mean Absolute Error: 0.0052\n",
      "- R2 Score: 0.9971\n",
      "----------------------------------\n",
      "Model performance for Test set\n",
      "- Root Mean Squared Error: 0.1358\n",
      "- Mean Absolute Error: 0.0859\n",
      "- R2 Score: 0.2918\n",
      "===================================\n",
      "\n",
      "\n",
      "AdaBoost Regressor\n",
      "Model performance for Training set\n",
      "- Root Mean Squared Error: 0.1309\n",
      "- Mean Absolute Error: 0.0979\n",
      "- R2 Score: 0.3650\n",
      "----------------------------------\n",
      "Model performance for Test set\n",
      "- Root Mean Squared Error: 0.1398\n",
      "- Mean Absolute Error: 0.1036\n",
      "- R2 Score: 0.2492\n",
      "===================================\n",
      "\n",
      "\n"
     ]
    }
   ],
   "source": [
    "# create list of training algorithms\n",
    "models = {\n",
    "    \"Linear Regression\": LinearRegression(),\n",
    "    \"Lasso\": Lasso(random_state=12),\n",
    "    \"Ridge\": Ridge(random_state=23),\n",
    "    \"SVR\": SVR(),\n",
    "    \"K-Neighbors Regressor\": KNeighborsRegressor(),\n",
    "    \"Decision Tree\": DecisionTreeRegressor(random_state=34),\n",
    "    \"Random Forest Regressor\": RandomForestRegressor(random_state=45),\n",
    "    \"XGBRegressor\": XGBRegressor(random_state=56),\n",
    "    \"AdaBoost Regressor\": AdaBoostRegressor(random_state=67)\n",
    "}\n",
    "model_list = []\n",
    "r2_list =[]\n",
    "\n",
    "# Define the train and test datasets\n",
    "X_train=X_train_std_scaled\n",
    "X_test=X_test_std_scaled\n",
    "\n",
    "# display the model evaluation for each algorithm\n",
    "for i in range(len(list(models))):\n",
    "    model = list(models.values())[i]\n",
    "    model.fit(X_train, y_train) # Train model\n",
    "\n",
    "    # Make predictions\n",
    "    y_train_pred = model.predict(X_train)\n",
    "    y_test_pred = model.predict(X_test)\n",
    "    \n",
    "    # Evaluate Train and Test dataset\n",
    "    model_train_mae , model_train_rmse, model_train_r2 = evaluate_model(y_train, y_train_pred)\n",
    "\n",
    "    model_test_mae , model_test_rmse, model_test_r2 = evaluate_model(y_test, y_test_pred)\n",
    "\n",
    "    \n",
    "    print(list(models.keys())[i])\n",
    "    model_list.append(list(models.keys())[i])\n",
    "    \n",
    "    print('Model performance for Training set')\n",
    "    print(\"- Root Mean Squared Error: {:.4f}\".format(model_train_rmse))\n",
    "    print(\"- Mean Absolute Error: {:.4f}\".format(model_train_mae))\n",
    "    print(\"- R2 Score: {:.4f}\".format(model_train_r2))\n",
    "\n",
    "    print('----------------------------------')\n",
    "    \n",
    "    print('Model performance for Test set')\n",
    "    print(\"- Root Mean Squared Error: {:.4f}\".format(model_test_rmse))\n",
    "    print(\"- Mean Absolute Error: {:.4f}\".format(model_test_mae))\n",
    "    print(\"- R2 Score: {:.4f}\".format(model_test_r2))\n",
    "    r2_list.append(model_test_r2)\n",
    "    \n",
    "    print('='*35)\n",
    "    print('\\n')"
   ]
  },
  {
   "cell_type": "code",
   "execution_count": 26,
   "metadata": {},
   "outputs": [
    {
     "data": {
      "text/html": [
       "<div>\n",
       "<style scoped>\n",
       "    .dataframe tbody tr th:only-of-type {\n",
       "        vertical-align: middle;\n",
       "    }\n",
       "\n",
       "    .dataframe tbody tr th {\n",
       "        vertical-align: top;\n",
       "    }\n",
       "\n",
       "    .dataframe thead th {\n",
       "        text-align: right;\n",
       "    }\n",
       "</style>\n",
       "<table border=\"1\" class=\"dataframe\">\n",
       "  <thead>\n",
       "    <tr style=\"text-align: right;\">\n",
       "      <th></th>\n",
       "      <th>Model Name</th>\n",
       "      <th>R2_Score</th>\n",
       "    </tr>\n",
       "  </thead>\n",
       "  <tbody>\n",
       "    <tr>\n",
       "      <th>6</th>\n",
       "      <td>Random Forest Regressor</td>\n",
       "      <td>0.369636</td>\n",
       "    </tr>\n",
       "    <tr>\n",
       "      <th>7</th>\n",
       "      <td>XGBRegressor</td>\n",
       "      <td>0.291778</td>\n",
       "    </tr>\n",
       "    <tr>\n",
       "      <th>3</th>\n",
       "      <td>SVR</td>\n",
       "      <td>0.258565</td>\n",
       "    </tr>\n",
       "    <tr>\n",
       "      <th>4</th>\n",
       "      <td>K-Neighbors Regressor</td>\n",
       "      <td>0.256232</td>\n",
       "    </tr>\n",
       "    <tr>\n",
       "      <th>8</th>\n",
       "      <td>AdaBoost Regressor</td>\n",
       "      <td>0.249229</td>\n",
       "    </tr>\n",
       "    <tr>\n",
       "      <th>2</th>\n",
       "      <td>Ridge</td>\n",
       "      <td>0.236635</td>\n",
       "    </tr>\n",
       "    <tr>\n",
       "      <th>0</th>\n",
       "      <td>Linear Regression</td>\n",
       "      <td>0.235821</td>\n",
       "    </tr>\n",
       "    <tr>\n",
       "      <th>1</th>\n",
       "      <td>Lasso</td>\n",
       "      <td>-0.000305</td>\n",
       "    </tr>\n",
       "    <tr>\n",
       "      <th>5</th>\n",
       "      <td>Decision Tree</td>\n",
       "      <td>-0.076899</td>\n",
       "    </tr>\n",
       "  </tbody>\n",
       "</table>\n",
       "</div>"
      ],
      "text/plain": [
       "                Model Name  R2_Score\n",
       "6  Random Forest Regressor  0.369636\n",
       "7             XGBRegressor  0.291778\n",
       "3                      SVR  0.258565\n",
       "4    K-Neighbors Regressor  0.256232\n",
       "8       AdaBoost Regressor  0.249229\n",
       "2                    Ridge  0.236635\n",
       "0        Linear Regression  0.235821\n",
       "1                    Lasso -0.000305\n",
       "5            Decision Tree -0.076899"
      ]
     },
     "execution_count": 26,
     "metadata": {},
     "output_type": "execute_result"
    }
   ],
   "source": [
    "result_std_scaled_predictors = pd.DataFrame(list(zip(model_list, r2_list)), columns=['Model Name', 'R2_Score']).sort_values(by=[\"R2_Score\"],ascending=False)\n",
    "result_std_scaled_predictors"
   ]
  },
  {
   "cell_type": "markdown",
   "metadata": {},
   "source": [
    "### Robust Scaled Value Predictors"
   ]
  },
  {
   "cell_type": "code",
   "execution_count": 27,
   "metadata": {},
   "outputs": [
    {
     "name": "stdout",
     "output_type": "stream",
     "text": [
      "Linear Regression\n",
      "Model performance for Training set\n",
      "- Root Mean Squared Error: 0.1284\n",
      "- Mean Absolute Error: 0.0912\n",
      "- R2 Score: 0.3884\n",
      "----------------------------------\n",
      "Model performance for Test set\n",
      "- Root Mean Squared Error: 0.1411\n",
      "- Mean Absolute Error: 0.0991\n",
      "- R2 Score: 0.2358\n",
      "===================================\n",
      "\n",
      "\n",
      "Lasso\n",
      "Model performance for Training set\n",
      "- Root Mean Squared Error: 0.1642\n",
      "- Mean Absolute Error: 0.1284\n",
      "- R2 Score: 0.0000\n",
      "----------------------------------\n",
      "Model performance for Test set\n",
      "- Root Mean Squared Error: 0.1614\n",
      "- Mean Absolute Error: 0.1239\n",
      "- R2 Score: -0.0003\n",
      "===================================\n",
      "\n",
      "\n",
      "Ridge\n",
      "Model performance for Training set\n",
      "- Root Mean Squared Error: 0.1284\n",
      "- Mean Absolute Error: 0.0909\n",
      "- R2 Score: 0.3883\n",
      "----------------------------------\n",
      "Model performance for Test set\n",
      "- Root Mean Squared Error: 0.1410\n",
      "- Mean Absolute Error: 0.0989\n",
      "- R2 Score: 0.2363\n",
      "===================================\n",
      "\n",
      "\n",
      "SVR\n",
      "Model performance for Training set\n",
      "- Root Mean Squared Error: 0.1105\n",
      "- Mean Absolute Error: 0.0824\n",
      "- R2 Score: 0.5475\n",
      "----------------------------------\n",
      "Model performance for Test set\n",
      "- Root Mean Squared Error: 0.1442\n",
      "- Mean Absolute Error: 0.1051\n",
      "- R2 Score: 0.2021\n",
      "===================================\n",
      "\n",
      "\n",
      "K-Neighbors Regressor\n",
      "Model performance for Training set\n",
      "- Root Mean Squared Error: 0.1178\n",
      "- Mean Absolute Error: 0.0807\n",
      "- R2 Score: 0.4853\n",
      "----------------------------------\n",
      "Model performance for Test set\n",
      "- Root Mean Squared Error: 0.1511\n",
      "- Mean Absolute Error: 0.1012\n",
      "- R2 Score: 0.1231\n",
      "===================================\n",
      "\n",
      "\n",
      "Decision Tree\n",
      "Model performance for Training set\n",
      "- Root Mean Squared Error: 0.0000\n",
      "- Mean Absolute Error: 0.0000\n",
      "- R2 Score: 1.0000\n",
      "----------------------------------\n",
      "Model performance for Test set\n",
      "- Root Mean Squared Error: 0.1667\n",
      "- Mean Absolute Error: 0.1007\n",
      "- R2 Score: -0.0670\n",
      "===================================\n",
      "\n",
      "\n",
      "Random Forest Regressor\n",
      "Model performance for Training set\n",
      "- Root Mean Squared Error: 0.0465\n",
      "- Mean Absolute Error: 0.0289\n",
      "- R2 Score: 0.9197\n",
      "----------------------------------\n",
      "Model performance for Test set\n",
      "- Root Mean Squared Error: 0.1278\n",
      "- Mean Absolute Error: 0.0809\n",
      "- R2 Score: 0.3727\n",
      "===================================\n",
      "\n",
      "\n",
      "XGBRegressor\n",
      "Model performance for Training set\n",
      "- Root Mean Squared Error: 0.0088\n",
      "- Mean Absolute Error: 0.0052\n",
      "- R2 Score: 0.9971\n",
      "----------------------------------\n",
      "Model performance for Test set\n",
      "- Root Mean Squared Error: 0.1358\n",
      "- Mean Absolute Error: 0.0859\n",
      "- R2 Score: 0.2918\n",
      "===================================\n",
      "\n",
      "\n",
      "AdaBoost Regressor\n",
      "Model performance for Training set\n",
      "- Root Mean Squared Error: 0.1309\n",
      "- Mean Absolute Error: 0.0979\n",
      "- R2 Score: 0.3650\n",
      "----------------------------------\n",
      "Model performance for Test set\n",
      "- Root Mean Squared Error: 0.1398\n",
      "- Mean Absolute Error: 0.1036\n",
      "- R2 Score: 0.2492\n",
      "===================================\n",
      "\n",
      "\n"
     ]
    }
   ],
   "source": [
    "# create list of training algorithms\n",
    "models = {\n",
    "    \"Linear Regression\": LinearRegression(),\n",
    "    \"Lasso\": Lasso(random_state=12),\n",
    "    \"Ridge\": Ridge(random_state=23),\n",
    "    \"SVR\": SVR(),\n",
    "    \"K-Neighbors Regressor\": KNeighborsRegressor(),\n",
    "    \"Decision Tree\": DecisionTreeRegressor(random_state=34),\n",
    "    \"Random Forest Regressor\": RandomForestRegressor(random_state=45),\n",
    "    \"XGBRegressor\": XGBRegressor(random_state=56),\n",
    "    \"AdaBoost Regressor\": AdaBoostRegressor(random_state=67)\n",
    "}\n",
    "model_list = []\n",
    "r2_list =[]\n",
    "\n",
    "# Define the train and test datasets\n",
    "X_train=X_train_rob_scaled\n",
    "X_test=X_test_rob_scaled\n",
    "\n",
    "# display the model evaluation for each algorithm\n",
    "for i in range(len(list(models))):\n",
    "    model = list(models.values())[i]\n",
    "    model.fit(X_train, y_train) # Train model\n",
    "\n",
    "    # Make predictions\n",
    "    y_train_pred = model.predict(X_train)\n",
    "    y_test_pred = model.predict(X_test)\n",
    "    \n",
    "    # Evaluate Train and Test dataset\n",
    "    model_train_mae , model_train_rmse, model_train_r2 = evaluate_model(y_train, y_train_pred)\n",
    "\n",
    "    model_test_mae , model_test_rmse, model_test_r2 = evaluate_model(y_test, y_test_pred)\n",
    "\n",
    "    \n",
    "    print(list(models.keys())[i])\n",
    "    model_list.append(list(models.keys())[i])\n",
    "    \n",
    "    print('Model performance for Training set')\n",
    "    print(\"- Root Mean Squared Error: {:.4f}\".format(model_train_rmse))\n",
    "    print(\"- Mean Absolute Error: {:.4f}\".format(model_train_mae))\n",
    "    print(\"- R2 Score: {:.4f}\".format(model_train_r2))\n",
    "\n",
    "    print('----------------------------------')\n",
    "    \n",
    "    print('Model performance for Test set')\n",
    "    print(\"- Root Mean Squared Error: {:.4f}\".format(model_test_rmse))\n",
    "    print(\"- Mean Absolute Error: {:.4f}\".format(model_test_mae))\n",
    "    print(\"- R2 Score: {:.4f}\".format(model_test_r2))\n",
    "    r2_list.append(model_test_r2)\n",
    "    \n",
    "    print('='*35)\n",
    "    print('\\n')"
   ]
  },
  {
   "cell_type": "code",
   "execution_count": 28,
   "metadata": {},
   "outputs": [
    {
     "data": {
      "text/html": [
       "<div>\n",
       "<style scoped>\n",
       "    .dataframe tbody tr th:only-of-type {\n",
       "        vertical-align: middle;\n",
       "    }\n",
       "\n",
       "    .dataframe tbody tr th {\n",
       "        vertical-align: top;\n",
       "    }\n",
       "\n",
       "    .dataframe thead th {\n",
       "        text-align: right;\n",
       "    }\n",
       "</style>\n",
       "<table border=\"1\" class=\"dataframe\">\n",
       "  <thead>\n",
       "    <tr style=\"text-align: right;\">\n",
       "      <th></th>\n",
       "      <th>Model Name</th>\n",
       "      <th>R2_Score</th>\n",
       "    </tr>\n",
       "  </thead>\n",
       "  <tbody>\n",
       "    <tr>\n",
       "      <th>6</th>\n",
       "      <td>Random Forest Regressor</td>\n",
       "      <td>0.372725</td>\n",
       "    </tr>\n",
       "    <tr>\n",
       "      <th>7</th>\n",
       "      <td>XGBRegressor</td>\n",
       "      <td>0.291778</td>\n",
       "    </tr>\n",
       "    <tr>\n",
       "      <th>8</th>\n",
       "      <td>AdaBoost Regressor</td>\n",
       "      <td>0.249229</td>\n",
       "    </tr>\n",
       "    <tr>\n",
       "      <th>2</th>\n",
       "      <td>Ridge</td>\n",
       "      <td>0.236348</td>\n",
       "    </tr>\n",
       "    <tr>\n",
       "      <th>0</th>\n",
       "      <td>Linear Regression</td>\n",
       "      <td>0.235821</td>\n",
       "    </tr>\n",
       "    <tr>\n",
       "      <th>3</th>\n",
       "      <td>SVR</td>\n",
       "      <td>0.202075</td>\n",
       "    </tr>\n",
       "    <tr>\n",
       "      <th>4</th>\n",
       "      <td>K-Neighbors Regressor</td>\n",
       "      <td>0.123141</td>\n",
       "    </tr>\n",
       "    <tr>\n",
       "      <th>1</th>\n",
       "      <td>Lasso</td>\n",
       "      <td>-0.000305</td>\n",
       "    </tr>\n",
       "    <tr>\n",
       "      <th>5</th>\n",
       "      <td>Decision Tree</td>\n",
       "      <td>-0.066993</td>\n",
       "    </tr>\n",
       "  </tbody>\n",
       "</table>\n",
       "</div>"
      ],
      "text/plain": [
       "                Model Name  R2_Score\n",
       "6  Random Forest Regressor  0.372725\n",
       "7             XGBRegressor  0.291778\n",
       "8       AdaBoost Regressor  0.249229\n",
       "2                    Ridge  0.236348\n",
       "0        Linear Regression  0.235821\n",
       "3                      SVR  0.202075\n",
       "4    K-Neighbors Regressor  0.123141\n",
       "1                    Lasso -0.000305\n",
       "5            Decision Tree -0.066993"
      ]
     },
     "execution_count": 28,
     "metadata": {},
     "output_type": "execute_result"
    }
   ],
   "source": [
    "result_rob_scaled_predictors = pd.DataFrame(list(zip(model_list, r2_list)), columns=['Model Name', 'R2_Score']).sort_values(by=[\"R2_Score\"],ascending=False)\n",
    "result_rob_scaled_predictors"
   ]
  },
  {
   "cell_type": "markdown",
   "metadata": {},
   "source": [
    "### Conclusion"
   ]
  },
  {
   "cell_type": "markdown",
   "metadata": {},
   "source": [
    "The best r-squared value is resulted from the predictors that transformed using standard scaled method."
   ]
  },
  {
   "cell_type": "code",
   "execution_count": 31,
   "metadata": {},
   "outputs": [
    {
     "name": "stdout",
     "output_type": "stream",
     "text": [
      "The best model is: \n",
      "\n",
      "                Model Name  R2_Score\n",
      "6  Random Forest Regressor  0.372725\n"
     ]
    }
   ],
   "source": [
    "print(f\"The best model is: \\n\\n{result_rob_scaled_predictors.head(1)}\")"
   ]
  },
  {
   "cell_type": "markdown",
   "metadata": {},
   "source": [
    "## Random Forest Regression"
   ]
  },
  {
   "cell_type": "code",
   "execution_count": 32,
   "metadata": {},
   "outputs": [
    {
     "name": "stdout",
     "output_type": "stream",
     "text": [
      "Accuracy of the model is 37.27\n"
     ]
    }
   ],
   "source": [
    "rf_model = RandomForestRegressor(random_state=45)\n",
    "rf_model = rf_model.fit(X_train_rob_scaled, y_train)\n",
    "y_pred = rf_model.predict(X_test_rob_scaled)\n",
    "score = r2_score(y_test, y_pred)*100\n",
    "print(\"Accuracy of the model is %.2f\" %score)"
   ]
  },
  {
   "cell_type": "markdown",
   "metadata": {},
   "source": [
    "### Hyperparameter Tuning on Random Forest Regression Model"
   ]
  },
  {
   "cell_type": "markdown",
   "metadata": {},
   "source": [
    "Let's try to improve the model accuracy value.\n",
    "\n",
    "With the grid search and randomized search cross-validation methods on the Random Forest Regressor defined parameters grid."
   ]
  },
  {
   "cell_type": "code",
   "execution_count": 34,
   "metadata": {},
   "outputs": [],
   "source": [
    "# import the libraries\n",
    "from sklearn.model_selection import GridSearchCV, RandomizedSearchCV\n",
    "\n",
    "# Define the parameter grid for RandomForestRegressor\n",
    "param_grid = {\n",
    "    'criterion': [\"squared_error\", \"absolute_error\", \"friedman_mse\", \"poisson\"],\n",
    "    'n_estimators': [100, 200, 300],\n",
    "    'max_depth': [10, 20, 30, None],\n",
    "    'min_samples_split': [2, 5, 10],\n",
    "    'min_samples_leaf': [1, 2, 4]\n",
    "}\n",
    "\n",
    "# Initialize the model\n",
    "model = RandomForestRegressor(random_state=45)\n"
   ]
  },
  {
   "cell_type": "markdown",
   "metadata": {},
   "source": [
    "#### Grid Search Cross-Validation"
   ]
  },
  {
   "cell_type": "code",
   "execution_count": 35,
   "metadata": {},
   "outputs": [
    {
     "name": "stderr",
     "output_type": "stream",
     "text": [
      "/home/er_bim/productivity-prediction/venv/lib/python3.10/site-packages/numpy/_core/getlimits.py:545: UserWarning: Signature b'\\x00\\xd0\\xcc\\xcc\\xcc\\xcc\\xcc\\xcc\\xfb\\xbf\\x00\\x00\\x00\\x00\\x00\\x00' for <class 'numpy.longdouble'> does not match any known type: falling back to type probe function.\n",
      "This warnings indicates broken support for the dtype!\n",
      "  machar = _get_machar(dtype)\n",
      "/home/er_bim/productivity-prediction/venv/lib/python3.10/site-packages/numpy/_core/getlimits.py:545: UserWarning: Signature b'\\x00\\xd0\\xcc\\xcc\\xcc\\xcc\\xcc\\xcc\\xfb\\xbf\\x00\\x00\\x00\\x00\\x00\\x00' for <class 'numpy.longdouble'> does not match any known type: falling back to type probe function.\n",
      "This warnings indicates broken support for the dtype!\n",
      "  machar = _get_machar(dtype)\n"
     ]
    },
    {
     "name": "stdout",
     "output_type": "stream",
     "text": [
      "Best parameters found: {'criterion': 'friedman_mse', 'max_depth': 30, 'min_samples_leaf': 1, 'min_samples_split': 10, 'n_estimators': 300}\n",
      "Best Model Test Set R2: 0.3848\n"
     ]
    }
   ],
   "source": [
    "# Set up the GridSearchCV\n",
    "grid_search = GridSearchCV(estimator=model, param_grid=param_grid, cv=5, n_jobs=-1, scoring='r2')\n",
    "\n",
    "# Define the train and test datasets\n",
    "X_train=X_train_rob_scaled\n",
    "X_test=X_test_rob_scaled\n",
    "\n",
    "# Fit the GridSearchCV to the data\n",
    "grid_search.fit(X_train, y_train)\n",
    "\n",
    "# Get the best parameters and the best model\n",
    "best_params = grid_search.best_params_\n",
    "best_model = grid_search.best_estimator_\n",
    "\n",
    "print(f\"Best parameters found: {best_params}\")\n",
    "\n",
    "# Make predictions on the test set\n",
    "y_test_pred = best_model.predict(X_test)\n",
    "\n",
    "# Evaluate the best model\n",
    "r2_value_gridsearch = r2_score(y_test, y_test_pred)\n",
    "print(f\"Best Model Test Set R2: {r2_value_gridsearch:.4f}\")"
   ]
  },
  {
   "cell_type": "markdown",
   "metadata": {},
   "source": [
    "#### Randomized Search Cross-Validation"
   ]
  },
  {
   "cell_type": "code",
   "execution_count": 36,
   "metadata": {},
   "outputs": [
    {
     "name": "stdout",
     "output_type": "stream",
     "text": [
      "Best parameters found: {'n_estimators': 300, 'min_samples_split': 10, 'min_samples_leaf': 1, 'max_depth': 20, 'criterion': 'friedman_mse'}\n",
      "Best Model Test Set R2: 0.3849\n"
     ]
    }
   ],
   "source": [
    "# Set up the RandomizedSearchCV\n",
    "rand_search = RandomizedSearchCV(estimator=model, param_distributions=param_grid, n_iter = 50, cv = 5, n_jobs = -1, scoring='r2', random_state=99)\n",
    "\n",
    "# Define the train and test datasets\n",
    "X_train=X_train_rob_scaled\n",
    "X_test=X_test_rob_scaled\n",
    "\n",
    "# Fit the GridSearchCV to the data\n",
    "rand_search.fit(X_train, y_train)\n",
    "\n",
    "# Get the best parameters and the best model\n",
    "best_params = rand_search.best_params_\n",
    "best_model = rand_search.best_estimator_\n",
    "\n",
    "print(f\"Best parameters found: {best_params}\")\n",
    "\n",
    "# Make predictions on the test set\n",
    "y_test_pred = best_model.predict(X_test)\n",
    "\n",
    "# Evaluate the best model\n",
    "best_r2_randomizedsearch = r2_score(y_test, y_test_pred)\n",
    "print(f\"Best Model Test Set R2: {best_r2_randomizedsearch:.4f}\")"
   ]
  },
  {
   "cell_type": "markdown",
   "metadata": {},
   "source": [
    "### Conclusion"
   ]
  },
  {
   "cell_type": "markdown",
   "metadata": {},
   "source": [
    "The hyperparameter tuning experiments with randomized search cross-validation slightly improve the model performance, so we will apply its parameters to the model with the predictors transformed by standard scale method."
   ]
  },
  {
   "cell_type": "code",
   "execution_count": 40,
   "metadata": {},
   "outputs": [
    {
     "name": "stdout",
     "output_type": "stream",
     "text": [
      "The acccuracy of the model is 38.4915%\n"
     ]
    }
   ],
   "source": [
    "rf_model = RandomForestRegressor(n_estimators= 300, \n",
    "                                 min_samples_split= 10, \n",
    "                                 min_samples_leaf= 1, \n",
    "                                 max_depth= 20, \n",
    "                                 criterion= 'friedman_mse', \n",
    "                                 random_state=45\n",
    "                                 )\n",
    "rf_model = rf_model.fit(X_train_rob_scaled, y_train)\n",
    "y_pred = rf_model.predict(X_test_rob_scaled)\n",
    "score = r2_score(y_test, y_pred)*100\n",
    "print(f\"The acccuracy of the model is {score:.4f}%\")"
   ]
  },
  {
   "cell_type": "code",
   "execution_count": 41,
   "metadata": {},
   "outputs": [
    {
     "name": "stdout",
     "output_type": "stream",
     "text": [
      "Parameters used by model:\n",
      "\n",
      "{'bootstrap': True,\n",
      " 'ccp_alpha': 0.0,\n",
      " 'criterion': 'friedman_mse',\n",
      " 'max_depth': 20,\n",
      " 'max_features': 1.0,\n",
      " 'max_leaf_nodes': None,\n",
      " 'max_samples': None,\n",
      " 'min_impurity_decrease': 0.0,\n",
      " 'min_samples_leaf': 1,\n",
      " 'min_samples_split': 10,\n",
      " 'min_weight_fraction_leaf': 0.0,\n",
      " 'monotonic_cst': None,\n",
      " 'n_estimators': 300,\n",
      " 'n_jobs': None,\n",
      " 'oob_score': False,\n",
      " 'random_state': 45,\n",
      " 'verbose': 0,\n",
      " 'warm_start': False}\n"
     ]
    }
   ],
   "source": [
    "# check the parameters used by the model\n",
    "from pprint import pprint\n",
    "print('Parameters used by model:\\n')\n",
    "pprint(rf_model.get_params())"
   ]
  },
  {
   "cell_type": "code",
   "execution_count": 42,
   "metadata": {},
   "outputs": [
    {
     "data": {
      "text/html": [
       "<div>\n",
       "<style scoped>\n",
       "    .dataframe tbody tr th:only-of-type {\n",
       "        vertical-align: middle;\n",
       "    }\n",
       "\n",
       "    .dataframe tbody tr th {\n",
       "        vertical-align: top;\n",
       "    }\n",
       "\n",
       "    .dataframe thead th {\n",
       "        text-align: right;\n",
       "    }\n",
       "</style>\n",
       "<table border=\"1\" class=\"dataframe\">\n",
       "  <thead>\n",
       "    <tr style=\"text-align: right;\">\n",
       "      <th></th>\n",
       "      <th>Actual Value</th>\n",
       "      <th>Predicted Value</th>\n",
       "      <th>Difference</th>\n",
       "    </tr>\n",
       "  </thead>\n",
       "  <tbody>\n",
       "    <tr>\n",
       "      <th>615</th>\n",
       "      <td>0.840889</td>\n",
       "      <td>0.834308</td>\n",
       "      <td>0.006581</td>\n",
       "    </tr>\n",
       "    <tr>\n",
       "      <th>734</th>\n",
       "      <td>0.902500</td>\n",
       "      <td>0.854726</td>\n",
       "      <td>0.047774</td>\n",
       "    </tr>\n",
       "    <tr>\n",
       "      <th>56</th>\n",
       "      <td>0.699965</td>\n",
       "      <td>0.700503</td>\n",
       "      <td>-0.000538</td>\n",
       "    </tr>\n",
       "    <tr>\n",
       "      <th>666</th>\n",
       "      <td>0.618361</td>\n",
       "      <td>0.820672</td>\n",
       "      <td>-0.202311</td>\n",
       "    </tr>\n",
       "    <tr>\n",
       "      <th>649</th>\n",
       "      <td>0.750797</td>\n",
       "      <td>0.660350</td>\n",
       "      <td>0.090447</td>\n",
       "    </tr>\n",
       "    <tr>\n",
       "      <th>...</th>\n",
       "      <td>...</td>\n",
       "      <td>...</td>\n",
       "      <td>...</td>\n",
       "    </tr>\n",
       "    <tr>\n",
       "      <th>989</th>\n",
       "      <td>0.404145</td>\n",
       "      <td>0.502142</td>\n",
       "      <td>-0.097997</td>\n",
       "    </tr>\n",
       "    <tr>\n",
       "      <th>968</th>\n",
       "      <td>0.354444</td>\n",
       "      <td>0.622451</td>\n",
       "      <td>-0.268007</td>\n",
       "    </tr>\n",
       "    <tr>\n",
       "      <th>254</th>\n",
       "      <td>0.858144</td>\n",
       "      <td>0.853152</td>\n",
       "      <td>0.004992</td>\n",
       "    </tr>\n",
       "    <tr>\n",
       "      <th>803</th>\n",
       "      <td>0.672141</td>\n",
       "      <td>0.715473</td>\n",
       "      <td>-0.043332</td>\n",
       "    </tr>\n",
       "    <tr>\n",
       "      <th>312</th>\n",
       "      <td>0.800359</td>\n",
       "      <td>0.800835</td>\n",
       "      <td>-0.000476</td>\n",
       "    </tr>\n",
       "  </tbody>\n",
       "</table>\n",
       "<p>333 rows × 3 columns</p>\n",
       "</div>"
      ],
      "text/plain": [
       "     Actual Value  Predicted Value  Difference\n",
       "615      0.840889         0.834308    0.006581\n",
       "734      0.902500         0.854726    0.047774\n",
       "56       0.699965         0.700503   -0.000538\n",
       "666      0.618361         0.820672   -0.202311\n",
       "649      0.750797         0.660350    0.090447\n",
       "..            ...              ...         ...\n",
       "989      0.404145         0.502142   -0.097997\n",
       "968      0.354444         0.622451   -0.268007\n",
       "254      0.858144         0.853152    0.004992\n",
       "803      0.672141         0.715473   -0.043332\n",
       "312      0.800359         0.800835   -0.000476\n",
       "\n",
       "[333 rows x 3 columns]"
      ]
     },
     "execution_count": 42,
     "metadata": {},
     "output_type": "execute_result"
    }
   ],
   "source": [
    "pred_df=pd.DataFrame({'Actual Value':y_test,'Predicted Value':y_pred,'Difference':y_test-y_pred})\n",
    "pred_df"
   ]
  },
  {
   "cell_type": "code",
   "execution_count": 43,
   "metadata": {},
   "outputs": [
    {
     "data": {
      "image/png": "[encoded data removed]",
      "text/plain": [
       "<Figure size 640x480 with 1 Axes>"
      ]
     },
     "metadata": {},
     "output_type": "display_data"
    }
   ],
   "source": [
    "sns.regplot(x=y_test,y=y_pred,ci=None,color ='red');\n",
    "plt.xlabel('Actual');\n",
    "plt.ylabel('Predicted');"
   ]
  }
 ],
 "metadata": {
  "kernelspec": {
   "display_name": "venv",
   "language": "python",
   "name": "python3"
  },
  "language_info": {
   "codemirror_mode": {
    "name": "ipython",
    "version": 3
   },
   "file_extension": ".py",
   "mimetype": "text/x-python",
   "name": "python",
   "nbconvert_exporter": "python",
   "pygments_lexer": "ipython3",
   "version": "3.10.12"
  }
 },
 "nbformat": 4,
 "nbformat_minor": 2
}
