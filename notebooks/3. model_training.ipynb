{
 "cells": [
  {
   "cell_type": "markdown",
   "metadata": {},
   "source": [
    "# Model Training"
   ]
  },
  {
   "cell_type": "markdown",
   "metadata": {},
   "source": [
    "In this section, we will try to train the dataset using several different algorithms and compare them to get the best model trained."
   ]
  },
  {
   "cell_type": "markdown",
   "metadata": {},
   "source": [
    "## Importing Libaries and Loading Dataset"
   ]
  },
  {
   "cell_type": "code",
   "execution_count": 36,
   "metadata": {},
   "outputs": [],
   "source": [
    "import numpy as np\n",
    "import pandas as pd\n",
    "from dataclasses import dataclass\n",
    "\n",
    "import seaborn as sns\n",
    "import matplotlib.pyplot as plt\n",
    "\n",
    "from sklearn.metrics import mean_squared_error, mean_absolute_error, r2_score\n",
    "from sklearn.neighbors import KNeighborsRegressor\n",
    "from sklearn.tree import DecisionTreeRegressor\n",
    "from sklearn.ensemble import RandomForestRegressor,AdaBoostRegressor\n",
    "from sklearn.svm import SVR\n",
    "from sklearn.linear_model import LinearRegression, Ridge,Lasso\n",
    "from xgboost import XGBRegressor"
   ]
  },
  {
   "cell_type": "code",
   "execution_count": 2,
   "metadata": {},
   "outputs": [],
   "source": [
    "# load the dataset\n",
    "df = pd.read_csv('/home/er_bim/productivity-prediction/notebooks/data/worker_productivity_processed.csv')"
   ]
  },
  {
   "cell_type": "markdown",
   "metadata": {},
   "source": [
    "## Prepare the Dataset for Modelling Process"
   ]
  },
  {
   "cell_type": "markdown",
   "metadata": {},
   "source": [
    "### Separate the predictors and target"
   ]
  },
  {
   "cell_type": "markdown",
   "metadata": {},
   "source": [
    "First, we separate the features in the dataset as predictors and target.\n",
    "\n",
    "The target (y variable) feature is `actual_producticity`, thus the rest of the of the features after the feature `date` is eliminated are the predictors (X variables)."
   ]
  },
  {
   "cell_type": "code",
   "execution_count": 3,
   "metadata": {},
   "outputs": [
    {
     "name": "stdout",
     "output_type": "stream",
     "text": [
      "The predictors consist of 11 columns and 1108 rows.\n",
      "\n",
      "The target column is actual_productivity which consist of 1108 rows.\n"
     ]
    }
   ],
   "source": [
    "# set the X variables\n",
    "X = df.drop(columns=['date', 'actual_productivity'],axis=1)\n",
    "\n",
    "# set the y variable\n",
    "y = df['actual_productivity']\n",
    "\n",
    "# recheck the shape of each variable\n",
    "print(f\"The predictors consist of {X.shape[1]} columns and {X.shape[0]} rows.\\n\" )\n",
    "print(f\"The target column is {y.name} which consist of {y.shape[0]} rows.\" )"
   ]
  },
  {
   "cell_type": "code",
   "execution_count": 4,
   "metadata": {},
   "outputs": [
    {
     "data": {
      "text/html": [
       "<div>\n",
       "<style scoped>\n",
       "    .dataframe tbody tr th:only-of-type {\n",
       "        vertical-align: middle;\n",
       "    }\n",
       "\n",
       "    .dataframe tbody tr th {\n",
       "        vertical-align: top;\n",
       "    }\n",
       "\n",
       "    .dataframe thead th {\n",
       "        text-align: right;\n",
       "    }\n",
       "</style>\n",
       "<table border=\"1\" class=\"dataframe\">\n",
       "  <thead>\n",
       "    <tr style=\"text-align: right;\">\n",
       "      <th></th>\n",
       "      <th>week</th>\n",
       "      <th>department</th>\n",
       "      <th>day</th>\n",
       "      <th>team</th>\n",
       "      <th>targeted_productivity</th>\n",
       "      <th>smv</th>\n",
       "      <th>wip</th>\n",
       "      <th>over_time</th>\n",
       "      <th>incentive</th>\n",
       "      <th>no_of_style_change</th>\n",
       "      <th>no_of_workers</th>\n",
       "    </tr>\n",
       "  </thead>\n",
       "  <tbody>\n",
       "    <tr>\n",
       "      <th>0</th>\n",
       "      <td>Week1</td>\n",
       "      <td>sewing</td>\n",
       "      <td>Thursday</td>\n",
       "      <td>8</td>\n",
       "      <td>0.80</td>\n",
       "      <td>26.16</td>\n",
       "      <td>1108</td>\n",
       "      <td>7080</td>\n",
       "      <td>98</td>\n",
       "      <td>0</td>\n",
       "      <td>59</td>\n",
       "    </tr>\n",
       "    <tr>\n",
       "      <th>1</th>\n",
       "      <td>Week1</td>\n",
       "      <td>finishing</td>\n",
       "      <td>Thursday</td>\n",
       "      <td>1</td>\n",
       "      <td>0.75</td>\n",
       "      <td>3.94</td>\n",
       "      <td>802</td>\n",
       "      <td>960</td>\n",
       "      <td>0</td>\n",
       "      <td>0</td>\n",
       "      <td>8</td>\n",
       "    </tr>\n",
       "    <tr>\n",
       "      <th>2</th>\n",
       "      <td>Week1</td>\n",
       "      <td>sewing</td>\n",
       "      <td>Thursday</td>\n",
       "      <td>11</td>\n",
       "      <td>0.80</td>\n",
       "      <td>11.41</td>\n",
       "      <td>968</td>\n",
       "      <td>3660</td>\n",
       "      <td>50</td>\n",
       "      <td>0</td>\n",
       "      <td>31</td>\n",
       "    </tr>\n",
       "  </tbody>\n",
       "</table>\n",
       "</div>"
      ],
      "text/plain": [
       "    week department       day  team  targeted_productivity    smv   wip  \\\n",
       "0  Week1     sewing  Thursday     8                   0.80  26.16  1108   \n",
       "1  Week1  finishing  Thursday     1                   0.75   3.94   802   \n",
       "2  Week1     sewing  Thursday    11                   0.80  11.41   968   \n",
       "\n",
       "   over_time  incentive  no_of_style_change  no_of_workers  \n",
       "0       7080         98                   0             59  \n",
       "1        960          0                   0              8  \n",
       "2       3660         50                   0             31  "
      ]
     },
     "execution_count": 4,
     "metadata": {},
     "output_type": "execute_result"
    }
   ],
   "source": [
    "# recheck the predictors\n",
    "X.head(3)"
   ]
  },
  {
   "cell_type": "code",
   "execution_count": 5,
   "metadata": {},
   "outputs": [
    {
     "data": {
      "text/plain": [
       "0    0.940725\n",
       "1    0.886500\n",
       "2    0.800570\n",
       "Name: actual_productivity, dtype: float64"
      ]
     },
     "execution_count": 5,
     "metadata": {},
     "output_type": "execute_result"
    }
   ],
   "source": [
    "# recheck the target column\n",
    "y.head(3)"
   ]
  },
  {
   "cell_type": "markdown",
   "metadata": {},
   "source": [
    "### Split the Dataset into Train and Test Sets"
   ]
  },
  {
   "cell_type": "markdown",
   "metadata": {},
   "source": [
    "I will split the dataset into 70% train and 30% test."
   ]
  },
  {
   "cell_type": "code",
   "execution_count": 6,
   "metadata": {},
   "outputs": [],
   "source": [
    "# separate dataset into train and test\n",
    "from sklearn.model_selection import train_test_split\n",
    "\n",
    "X_train, X_test, y_train, y_test = train_test_split(X,y,test_size=0.3,random_state=22)"
   ]
  },
  {
   "cell_type": "markdown",
   "metadata": {},
   "source": [
    "### Transform the predictors value"
   ]
  },
  {
   "cell_type": "markdown",
   "metadata": {},
   "source": [
    "The categorical features need to be encoded to fit the model training; I chose the one-hot encoding method for this dataset.\n",
    "\n",
    "For the numerical features, I want to do the experiment that both will be trained; the first one will be trained as the original value, and the second will be transformed first to make the value compacted. I choose the robust scaler transformation method."
   ]
  },
  {
   "cell_type": "code",
   "execution_count": 7,
   "metadata": {},
   "outputs": [],
   "source": [
    "# create instance for numerical and categorical features\n",
    "num = X._get_numeric_data().columns\n",
    "cat = X.drop(num, axis = 1).columns"
   ]
  },
  {
   "cell_type": "code",
   "execution_count": 8,
   "metadata": {},
   "outputs": [],
   "source": [
    "# import libaries for column transformer\n",
    "from sklearn.preprocessing import OneHotEncoder, StandardScaler, RobustScaler\n",
    "from sklearn.compose import ColumnTransformer\n",
    "\n",
    "std_scaler = StandardScaler()\n",
    "rob_scaler = RobustScaler()\n",
    "cat_encoder = OneHotEncoder()\n",
    "\n",
    "# create column transformer pipeline for original value numerical features\n",
    "preprocessor1 = ColumnTransformer([(\"OneHotEncoder\", cat_encoder, cat), \n",
    "                                  (\"passthrough\", \"passthrough\", num)]\n",
    "                                )\n",
    "\n",
    "# create column transformer pipeline for standard scaled numerical features\n",
    "preprocessor2 = ColumnTransformer([(\"OneHotEncoder\", cat_encoder, cat), \n",
    "                                  (\"StandardScaler\", std_scaler, num)]\n",
    "                                )\n",
    "\n",
    "# create column transformer pipeline for robust scaled numerical features\n",
    "preprocessor3 = ColumnTransformer([(\"OneHotEncoder\", cat_encoder, cat), \n",
    "                                  (\"RobustScaler\", rob_scaler, num)]\n",
    "                                )"
   ]
  },
  {
   "cell_type": "code",
   "execution_count": 9,
   "metadata": {},
   "outputs": [
    {
     "name": "stdout",
     "output_type": "stream",
     "text": [
      "Basic statistical summary of predictors with original value: \n",
      "\n",
      "               13          14          15           16            17  \\\n",
      "count  775.000000  775.000000  775.000000   775.000000    775.000000   \n",
      "mean     6.597419    0.739097   14.724477   928.640000   4464.277419   \n",
      "std      3.461564    0.076885   10.894635   270.193726   3228.813681   \n",
      "min      1.000000    0.500000    2.900000     7.000000      0.000000   \n",
      "25%      4.000000    0.700000    3.940000   814.000000   1440.000000   \n",
      "50%      7.000000    0.750000   14.890000   841.000000   3960.000000   \n",
      "75%     10.000000    0.800000   23.475000  1069.000000   6900.000000   \n",
      "max     12.000000    0.800000   54.560000  1871.000000  15000.000000   \n",
      "\n",
      "               18          19          20  \n",
      "count  775.000000  775.000000  775.000000  \n",
      "mean    23.873548    0.150968   33.388387  \n",
      "std     27.862703    0.427324   22.065152  \n",
      "min      0.000000    0.000000    2.000000  \n",
      "25%      0.000000    0.000000    9.000000  \n",
      "50%      0.000000    0.000000   34.000000  \n",
      "75%     50.000000    0.000000   57.000000  \n",
      "max    113.000000    2.000000   60.000000  \n"
     ]
    }
   ],
   "source": [
    "# fit and transform X_train with original value in numerical features\n",
    "X_train_ori = preprocessor1.fit_transform(X_train)\n",
    "\n",
    "# transform X_test with original value in numerical features\n",
    "X_test_ori = preprocessor1.transform(X_test)\n",
    "\n",
    "# show the statistical summary\n",
    "print(f\"Basic statistical summary of predictors with original value: \\n\\n{pd.DataFrame(X_train_ori).loc[:, 13:20].describe()}\")"
   ]
  },
  {
   "cell_type": "code",
   "execution_count": 10,
   "metadata": {},
   "outputs": [
    {
     "name": "stdout",
     "output_type": "stream",
     "text": [
      "Basic statistical summary of predictors with standard scaled value: \n",
      "\n",
      "                 13            14            15            16            17  \\\n",
      "count  7.750000e+02  7.750000e+02  7.750000e+02  7.750000e+02  7.750000e+02   \n",
      "mean  -5.042561e-17  5.500976e-16 -2.131628e-16  6.417805e-17  8.136860e-17   \n",
      "std    1.000646e+00  1.000646e+00  1.000646e+00  1.000646e+00  1.000646e+00   \n",
      "min   -1.618065e+00 -3.111799e+00 -1.086050e+00 -3.413237e+00 -1.383530e+00   \n",
      "25%   -7.508447e-01 -5.088371e-01 -9.905281e-01 -4.245622e-01 -9.372577e-01   \n",
      "50%    1.163753e-01  1.419034e-01  1.520285e-02 -3.245693e-01 -1.562813e-01   \n",
      "75%    9.835954e-01  7.926439e-01  8.037143e-01  5.198146e-01  7.548579e-01   \n",
      "max    1.561742e+00  7.926439e-01  3.658796e+00  3.489972e+00  3.265139e+00   \n",
      "\n",
      "                 18            19            20  \n",
      "count  7.750000e+02  7.750000e+02  7.750000e+02  \n",
      "mean  -1.948262e-17 -4.125732e-17 -1.100195e-16  \n",
      "std    1.000646e+00  1.000646e+00  1.000646e+00  \n",
      "min   -8.573815e-01 -3.535147e-01 -1.423451e+00  \n",
      "25%   -8.573815e-01 -3.535147e-01 -1.106004e+00  \n",
      "50%   -8.573815e-01 -3.535147e-01  2.773640e-02  \n",
      "75%    9.382910e-01 -3.535147e-01  1.070777e+00  \n",
      "max    3.200838e+00  4.329799e+00  1.206826e+00  \n"
     ]
    }
   ],
   "source": [
    "# fit and transform X_train with original value in numerical features\n",
    "X_train_std_scaled = preprocessor2.fit_transform(X_train)\n",
    "\n",
    "# transform X_test with original value in numerical features\n",
    "X_test_std_scaled = preprocessor2.transform(X_test)\n",
    "\n",
    "# show the statistical summary\n",
    "print(f\"Basic statistical summary of predictors with standard scaled value: \\n\\n{pd.DataFrame(X_train_std_scaled).loc[:, 13:20].describe()}\")"
   ]
  },
  {
   "cell_type": "code",
   "execution_count": 11,
   "metadata": {},
   "outputs": [
    {
     "name": "stdout",
     "output_type": "stream",
     "text": [
      "Basic statistical summary of predictors with robust scaled value: \n",
      "\n",
      "               13          14          15          16          17          18  \\\n",
      "count  775.000000  775.000000  775.000000  775.000000  775.000000  775.000000   \n",
      "mean    -0.067097   -0.109032   -0.008473    0.343686    0.092359    0.477471   \n",
      "std      0.576927    0.768852    0.557698    1.059583    0.591358    0.557254   \n",
      "min     -1.000000   -2.500000   -0.613770   -3.270588   -0.725275    0.000000   \n",
      "25%     -0.500000   -0.500000   -0.560532   -0.105882   -0.461538    0.000000   \n",
      "50%      0.000000    0.000000    0.000000    0.000000    0.000000    0.000000   \n",
      "75%      0.500000    0.500000    0.439468    0.894118    0.538462    1.000000   \n",
      "max      0.833333    0.500000    2.030714    4.039216    2.021978    2.260000   \n",
      "\n",
      "               19          20  \n",
      "count  775.000000  775.000000  \n",
      "mean     0.150968   -0.012742  \n",
      "std      0.427324    0.459691  \n",
      "min      0.000000   -0.666667  \n",
      "25%      0.000000   -0.520833  \n",
      "50%      0.000000    0.000000  \n",
      "75%      0.000000    0.479167  \n",
      "max      2.000000    0.541667  \n"
     ]
    }
   ],
   "source": [
    "# fit and transform X_train with original value in numerical features\n",
    "X_train_rob_scaled = preprocessor3.fit_transform(X_train)\n",
    "\n",
    "# transform X_test with original value in numerical features\n",
    "X_test_rob_scaled = preprocessor2.transform(X_test)\n",
    "\n",
    "# show the statistical summary\n",
    "print(f\"Basic statistical summary of predictors with robust scaled value: \\n\\n{pd.DataFrame(X_train_rob_scaled).loc[:, 13:20].describe()}\")"
   ]
  },
  {
   "cell_type": "markdown",
   "metadata": {},
   "source": [
    "## Model Training"
   ]
  },
  {
   "cell_type": "markdown",
   "metadata": {},
   "source": [
    "Now we try to do the modelling process of the dataset."
   ]
  },
  {
   "cell_type": "code",
   "execution_count": 12,
   "metadata": {},
   "outputs": [],
   "source": [
    "# create the function for model evaluation \n",
    "def evaluate_model(true, predicted):\n",
    "    mae = mean_absolute_error(true, predicted)\n",
    "    mse = mean_squared_error(true, predicted)\n",
    "    rmse = np.sqrt(mean_squared_error(true, predicted))\n",
    "    r2_square = r2_score(true, predicted)\n",
    "    return mae, rmse, r2_square"
   ]
  },
  {
   "cell_type": "markdown",
   "metadata": {},
   "source": [
    "### Original Value Predictors"
   ]
  },
  {
   "cell_type": "code",
   "execution_count": 13,
   "metadata": {},
   "outputs": [
    {
     "name": "stdout",
     "output_type": "stream",
     "text": [
      "Linear Regression\n",
      "Model performance for Training set\n",
      "- Root Mean Squared Error: 0.1262\n",
      "- Mean Absolute Error: 0.0902\n",
      "- R2 Score: 0.3619\n",
      "----------------------------------\n",
      "Model performance for Test set\n",
      "- Root Mean Squared Error: 0.1457\n",
      "- Mean Absolute Error: 0.0998\n",
      "- R2 Score: 0.3081\n",
      "===================================\n",
      "\n",
      "\n",
      "Lasso\n",
      "Model performance for Training set\n",
      "- Root Mean Squared Error: 0.1541\n",
      "- Mean Absolute Error: 0.1190\n",
      "- R2 Score: 0.0475\n",
      "----------------------------------\n",
      "Model performance for Test set\n",
      "- Root Mean Squared Error: 0.1727\n",
      "- Mean Absolute Error: 0.1296\n",
      "- R2 Score: 0.0284\n",
      "===================================\n",
      "\n",
      "\n",
      "Ridge\n",
      "Model performance for Training set\n",
      "- Root Mean Squared Error: 0.1265\n",
      "- Mean Absolute Error: 0.0912\n",
      "- R2 Score: 0.3586\n",
      "----------------------------------\n",
      "Model performance for Test set\n",
      "- Root Mean Squared Error: 0.1462\n",
      "- Mean Absolute Error: 0.1005\n",
      "- R2 Score: 0.3030\n",
      "===================================\n",
      "\n",
      "\n",
      "SVR\n",
      "Model performance for Training set\n",
      "- Root Mean Squared Error: 0.1542\n",
      "- Mean Absolute Error: 0.1196\n",
      "- R2 Score: 0.0462\n",
      "----------------------------------\n",
      "Model performance for Test set\n",
      "- Root Mean Squared Error: 0.1776\n",
      "- Mean Absolute Error: 0.1326\n",
      "- R2 Score: -0.0273\n",
      "===================================\n",
      "\n",
      "\n",
      "K-Neighbors Regressor\n",
      "Model performance for Training set\n",
      "- Root Mean Squared Error: 0.1204\n",
      "- Mean Absolute Error: 0.0867\n",
      "- R2 Score: 0.4186\n",
      "----------------------------------\n",
      "Model performance for Test set\n",
      "- Root Mean Squared Error: 0.1735\n",
      "- Mean Absolute Error: 0.1231\n",
      "- R2 Score: 0.0187\n",
      "===================================\n",
      "\n",
      "\n",
      "Decision Tree\n",
      "Model performance for Training set\n",
      "- Root Mean Squared Error: 0.0000\n",
      "- Mean Absolute Error: 0.0000\n",
      "- R2 Score: 1.0000\n",
      "----------------------------------\n",
      "Model performance for Test set\n",
      "- Root Mean Squared Error: 0.1587\n",
      "- Mean Absolute Error: 0.0900\n",
      "- R2 Score: 0.1796\n",
      "===================================\n",
      "\n",
      "\n",
      "Random Forest Regressor\n",
      "Model performance for Training set\n",
      "- Root Mean Squared Error: 0.0451\n",
      "- Mean Absolute Error: 0.0277\n",
      "- R2 Score: 0.9184\n",
      "----------------------------------\n",
      "Model performance for Test set\n",
      "- Root Mean Squared Error: 0.1338\n",
      "- Mean Absolute Error: 0.0813\n",
      "- R2 Score: 0.4170\n",
      "===================================\n",
      "\n",
      "\n",
      "XGBRegressor\n",
      "Model performance for Training set\n",
      "- Root Mean Squared Error: 0.0087\n",
      "- Mean Absolute Error: 0.0056\n",
      "- R2 Score: 0.9969\n",
      "----------------------------------\n",
      "Model performance for Test set\n",
      "- Root Mean Squared Error: 0.1382\n",
      "- Mean Absolute Error: 0.0845\n",
      "- R2 Score: 0.3780\n",
      "===================================\n",
      "\n",
      "\n",
      "AdaBoost Regressor\n",
      "Model performance for Training set\n",
      "- Root Mean Squared Error: 0.1179\n",
      "- Mean Absolute Error: 0.0879\n",
      "- R2 Score: 0.4423\n",
      "----------------------------------\n",
      "Model performance for Test set\n",
      "- Root Mean Squared Error: 0.1399\n",
      "- Mean Absolute Error: 0.0993\n",
      "- R2 Score: 0.3624\n",
      "===================================\n",
      "\n",
      "\n"
     ]
    }
   ],
   "source": [
    "# create list of training algorithms\n",
    "models = {\n",
    "    \"Linear Regression\": LinearRegression(),\n",
    "    \"Lasso\": Lasso(random_state=12),\n",
    "    \"Ridge\": Ridge(random_state=23),\n",
    "    \"SVR\": SVR(),\n",
    "    \"K-Neighbors Regressor\": KNeighborsRegressor(),\n",
    "    \"Decision Tree\": DecisionTreeRegressor(random_state=34),\n",
    "    \"Random Forest Regressor\": RandomForestRegressor(random_state=45),\n",
    "    \"XGBRegressor\": XGBRegressor(random_state=56),\n",
    "    \"AdaBoost Regressor\": AdaBoostRegressor(random_state=67)\n",
    "}\n",
    "model_list = []\n",
    "r2_list =[]\n",
    "\n",
    "# Define the train and test datasets\n",
    "X_train=X_train_ori\n",
    "X_test=X_test_ori\n",
    "\n",
    "# display the model evaluation for each algorithm\n",
    "for i in range(len(list(models))):\n",
    "    model = list(models.values())[i]\n",
    "    model.fit(X_train, y_train) # Train model\n",
    "\n",
    "    # Make predictions\n",
    "    y_train_pred = model.predict(X_train)\n",
    "    y_test_pred = model.predict(X_test)\n",
    "    \n",
    "    # Evaluate Train and Test dataset\n",
    "    model_train_mae , model_train_rmse, model_train_r2 = evaluate_model(y_train, y_train_pred)\n",
    "\n",
    "    model_test_mae , model_test_rmse, model_test_r2 = evaluate_model(y_test, y_test_pred)\n",
    "\n",
    "    \n",
    "    print(list(models.keys())[i])\n",
    "    model_list.append(list(models.keys())[i])\n",
    "    \n",
    "    print('Model performance for Training set')\n",
    "    print(\"- Root Mean Squared Error: {:.4f}\".format(model_train_rmse))\n",
    "    print(\"- Mean Absolute Error: {:.4f}\".format(model_train_mae))\n",
    "    print(\"- R2 Score: {:.4f}\".format(model_train_r2))\n",
    "\n",
    "    print('----------------------------------')\n",
    "    \n",
    "    print('Model performance for Test set')\n",
    "    print(\"- Root Mean Squared Error: {:.4f}\".format(model_test_rmse))\n",
    "    print(\"- Mean Absolute Error: {:.4f}\".format(model_test_mae))\n",
    "    print(\"- R2 Score: {:.4f}\".format(model_test_r2))\n",
    "    r2_list.append(model_test_r2)\n",
    "    \n",
    "    print('='*35)\n",
    "    print('\\n')"
   ]
  },
  {
   "cell_type": "code",
   "execution_count": 14,
   "metadata": {},
   "outputs": [
    {
     "data": {
      "text/html": [
       "<div>\n",
       "<style scoped>\n",
       "    .dataframe tbody tr th:only-of-type {\n",
       "        vertical-align: middle;\n",
       "    }\n",
       "\n",
       "    .dataframe tbody tr th {\n",
       "        vertical-align: top;\n",
       "    }\n",
       "\n",
       "    .dataframe thead th {\n",
       "        text-align: right;\n",
       "    }\n",
       "</style>\n",
       "<table border=\"1\" class=\"dataframe\">\n",
       "  <thead>\n",
       "    <tr style=\"text-align: right;\">\n",
       "      <th></th>\n",
       "      <th>Model Name</th>\n",
       "      <th>R2_Score</th>\n",
       "    </tr>\n",
       "  </thead>\n",
       "  <tbody>\n",
       "    <tr>\n",
       "      <th>6</th>\n",
       "      <td>Random Forest Regressor</td>\n",
       "      <td>0.416958</td>\n",
       "    </tr>\n",
       "    <tr>\n",
       "      <th>7</th>\n",
       "      <td>XGBRegressor</td>\n",
       "      <td>0.378032</td>\n",
       "    </tr>\n",
       "    <tr>\n",
       "      <th>8</th>\n",
       "      <td>AdaBoost Regressor</td>\n",
       "      <td>0.362372</td>\n",
       "    </tr>\n",
       "    <tr>\n",
       "      <th>0</th>\n",
       "      <td>Linear Regression</td>\n",
       "      <td>0.308071</td>\n",
       "    </tr>\n",
       "    <tr>\n",
       "      <th>2</th>\n",
       "      <td>Ridge</td>\n",
       "      <td>0.303029</td>\n",
       "    </tr>\n",
       "    <tr>\n",
       "      <th>5</th>\n",
       "      <td>Decision Tree</td>\n",
       "      <td>0.179559</td>\n",
       "    </tr>\n",
       "    <tr>\n",
       "      <th>1</th>\n",
       "      <td>Lasso</td>\n",
       "      <td>0.028436</td>\n",
       "    </tr>\n",
       "    <tr>\n",
       "      <th>4</th>\n",
       "      <td>K-Neighbors Regressor</td>\n",
       "      <td>0.018704</td>\n",
       "    </tr>\n",
       "    <tr>\n",
       "      <th>3</th>\n",
       "      <td>SVR</td>\n",
       "      <td>-0.027336</td>\n",
       "    </tr>\n",
       "  </tbody>\n",
       "</table>\n",
       "</div>"
      ],
      "text/plain": [
       "                Model Name  R2_Score\n",
       "6  Random Forest Regressor  0.416958\n",
       "7             XGBRegressor  0.378032\n",
       "8       AdaBoost Regressor  0.362372\n",
       "0        Linear Regression  0.308071\n",
       "2                    Ridge  0.303029\n",
       "5            Decision Tree  0.179559\n",
       "1                    Lasso  0.028436\n",
       "4    K-Neighbors Regressor  0.018704\n",
       "3                      SVR -0.027336"
      ]
     },
     "execution_count": 14,
     "metadata": {},
     "output_type": "execute_result"
    }
   ],
   "source": [
    "result_original_predictors = pd.DataFrame(list(zip(model_list, r2_list)), columns=['Model Name', 'R2_Score']).sort_values(by=[\"R2_Score\"],ascending=False)\n",
    "result_original_predictors"
   ]
  },
  {
   "cell_type": "markdown",
   "metadata": {},
   "source": [
    "### Standard Scaled Value Predictors"
   ]
  },
  {
   "cell_type": "code",
   "execution_count": 15,
   "metadata": {},
   "outputs": [
    {
     "name": "stdout",
     "output_type": "stream",
     "text": [
      "Linear Regression\n",
      "Model performance for Training set\n",
      "- Root Mean Squared Error: 0.1262\n",
      "- Mean Absolute Error: 0.0902\n",
      "- R2 Score: 0.3614\n",
      "----------------------------------\n",
      "Model performance for Test set\n",
      "- Root Mean Squared Error: 0.1458\n",
      "- Mean Absolute Error: 0.1001\n",
      "- R2 Score: 0.3075\n",
      "===================================\n",
      "\n",
      "\n",
      "Lasso\n",
      "Model performance for Training set\n",
      "- Root Mean Squared Error: 0.1579\n",
      "- Mean Absolute Error: 0.1232\n",
      "- R2 Score: 0.0000\n",
      "----------------------------------\n",
      "Model performance for Test set\n",
      "- Root Mean Squared Error: 0.1755\n",
      "- Mean Absolute Error: 0.1333\n",
      "- R2 Score: -0.0034\n",
      "===================================\n",
      "\n",
      "\n",
      "Ridge\n",
      "Model performance for Training set\n",
      "- Root Mean Squared Error: 0.1262\n",
      "- Mean Absolute Error: 0.0901\n",
      "- R2 Score: 0.3619\n",
      "----------------------------------\n",
      "Model performance for Test set\n",
      "- Root Mean Squared Error: 0.1456\n",
      "- Mean Absolute Error: 0.0997\n",
      "- R2 Score: 0.3088\n",
      "===================================\n",
      "\n",
      "\n",
      "SVR\n",
      "Model performance for Training set\n",
      "- Root Mean Squared Error: 0.1072\n",
      "- Mean Absolute Error: 0.0802\n",
      "- R2 Score: 0.5389\n",
      "----------------------------------\n",
      "Model performance for Test set\n",
      "- Root Mean Squared Error: 0.1497\n",
      "- Mean Absolute Error: 0.1053\n",
      "- R2 Score: 0.2699\n",
      "===================================\n",
      "\n",
      "\n",
      "K-Neighbors Regressor\n",
      "Model performance for Training set\n",
      "- Root Mean Squared Error: 0.1080\n",
      "- Mean Absolute Error: 0.0712\n",
      "- R2 Score: 0.5319\n",
      "----------------------------------\n",
      "Model performance for Test set\n",
      "- Root Mean Squared Error: 0.1476\n",
      "- Mean Absolute Error: 0.0960\n",
      "- R2 Score: 0.2897\n",
      "===================================\n",
      "\n",
      "\n",
      "Decision Tree\n",
      "Model performance for Training set\n",
      "- Root Mean Squared Error: 0.0000\n",
      "- Mean Absolute Error: 0.0000\n",
      "- R2 Score: 1.0000\n",
      "----------------------------------\n",
      "Model performance for Test set\n",
      "- Root Mean Squared Error: 0.1587\n",
      "- Mean Absolute Error: 0.0899\n",
      "- R2 Score: 0.1796\n",
      "===================================\n",
      "\n",
      "\n",
      "Random Forest Regressor\n",
      "Model performance for Training set\n",
      "- Root Mean Squared Error: 0.0452\n",
      "- Mean Absolute Error: 0.0278\n",
      "- R2 Score: 0.9182\n",
      "----------------------------------\n",
      "Model performance for Test set\n",
      "- Root Mean Squared Error: 0.1337\n",
      "- Mean Absolute Error: 0.0812\n",
      "- R2 Score: 0.4171\n",
      "===================================\n",
      "\n",
      "\n",
      "XGBRegressor\n",
      "Model performance for Training set\n",
      "- Root Mean Squared Error: 0.0087\n",
      "- Mean Absolute Error: 0.0056\n",
      "- R2 Score: 0.9969\n",
      "----------------------------------\n",
      "Model performance for Test set\n",
      "- Root Mean Squared Error: 0.1382\n",
      "- Mean Absolute Error: 0.0845\n",
      "- R2 Score: 0.3780\n",
      "===================================\n",
      "\n",
      "\n",
      "AdaBoost Regressor\n",
      "Model performance for Training set\n",
      "- Root Mean Squared Error: 0.1209\n",
      "- Mean Absolute Error: 0.0898\n",
      "- R2 Score: 0.4143\n",
      "----------------------------------\n",
      "Model performance for Test set\n",
      "- Root Mean Squared Error: 0.1389\n",
      "- Mean Absolute Error: 0.0988\n",
      "- R2 Score: 0.3711\n",
      "===================================\n",
      "\n",
      "\n"
     ]
    }
   ],
   "source": [
    "# create list of training algorithms\n",
    "models = {\n",
    "    \"Linear Regression\": LinearRegression(),\n",
    "    \"Lasso\": Lasso(random_state=12),\n",
    "    \"Ridge\": Ridge(random_state=23),\n",
    "    \"SVR\": SVR(),\n",
    "    \"K-Neighbors Regressor\": KNeighborsRegressor(),\n",
    "    \"Decision Tree\": DecisionTreeRegressor(random_state=34),\n",
    "    \"Random Forest Regressor\": RandomForestRegressor(random_state=45),\n",
    "    \"XGBRegressor\": XGBRegressor(random_state=56),\n",
    "    \"AdaBoost Regressor\": AdaBoostRegressor(random_state=67)\n",
    "}\n",
    "model_list = []\n",
    "r2_list =[]\n",
    "\n",
    "# Define the train and test datasets\n",
    "X_train=X_train_std_scaled\n",
    "X_test=X_test_std_scaled\n",
    "\n",
    "# display the model evaluation for each algorithm\n",
    "for i in range(len(list(models))):\n",
    "    model = list(models.values())[i]\n",
    "    model.fit(X_train, y_train) # Train model\n",
    "\n",
    "    # Make predictions\n",
    "    y_train_pred = model.predict(X_train)\n",
    "    y_test_pred = model.predict(X_test)\n",
    "    \n",
    "    # Evaluate Train and Test dataset\n",
    "    model_train_mae , model_train_rmse, model_train_r2 = evaluate_model(y_train, y_train_pred)\n",
    "\n",
    "    model_test_mae , model_test_rmse, model_test_r2 = evaluate_model(y_test, y_test_pred)\n",
    "\n",
    "    \n",
    "    print(list(models.keys())[i])\n",
    "    model_list.append(list(models.keys())[i])\n",
    "    \n",
    "    print('Model performance for Training set')\n",
    "    print(\"- Root Mean Squared Error: {:.4f}\".format(model_train_rmse))\n",
    "    print(\"- Mean Absolute Error: {:.4f}\".format(model_train_mae))\n",
    "    print(\"- R2 Score: {:.4f}\".format(model_train_r2))\n",
    "\n",
    "    print('----------------------------------')\n",
    "    \n",
    "    print('Model performance for Test set')\n",
    "    print(\"- Root Mean Squared Error: {:.4f}\".format(model_test_rmse))\n",
    "    print(\"- Mean Absolute Error: {:.4f}\".format(model_test_mae))\n",
    "    print(\"- R2 Score: {:.4f}\".format(model_test_r2))\n",
    "    r2_list.append(model_test_r2)\n",
    "    \n",
    "    print('='*35)\n",
    "    print('\\n')"
   ]
  },
  {
   "cell_type": "code",
   "execution_count": 16,
   "metadata": {},
   "outputs": [
    {
     "data": {
      "text/html": [
       "<div>\n",
       "<style scoped>\n",
       "    .dataframe tbody tr th:only-of-type {\n",
       "        vertical-align: middle;\n",
       "    }\n",
       "\n",
       "    .dataframe tbody tr th {\n",
       "        vertical-align: top;\n",
       "    }\n",
       "\n",
       "    .dataframe thead th {\n",
       "        text-align: right;\n",
       "    }\n",
       "</style>\n",
       "<table border=\"1\" class=\"dataframe\">\n",
       "  <thead>\n",
       "    <tr style=\"text-align: right;\">\n",
       "      <th></th>\n",
       "      <th>Model Name</th>\n",
       "      <th>R2_Score</th>\n",
       "    </tr>\n",
       "  </thead>\n",
       "  <tbody>\n",
       "    <tr>\n",
       "      <th>6</th>\n",
       "      <td>Random Forest Regressor</td>\n",
       "      <td>0.417082</td>\n",
       "    </tr>\n",
       "    <tr>\n",
       "      <th>7</th>\n",
       "      <td>XGBRegressor</td>\n",
       "      <td>0.378032</td>\n",
       "    </tr>\n",
       "    <tr>\n",
       "      <th>8</th>\n",
       "      <td>AdaBoost Regressor</td>\n",
       "      <td>0.371123</td>\n",
       "    </tr>\n",
       "    <tr>\n",
       "      <th>2</th>\n",
       "      <td>Ridge</td>\n",
       "      <td>0.308753</td>\n",
       "    </tr>\n",
       "    <tr>\n",
       "      <th>0</th>\n",
       "      <td>Linear Regression</td>\n",
       "      <td>0.307485</td>\n",
       "    </tr>\n",
       "    <tr>\n",
       "      <th>4</th>\n",
       "      <td>K-Neighbors Regressor</td>\n",
       "      <td>0.289706</td>\n",
       "    </tr>\n",
       "    <tr>\n",
       "      <th>3</th>\n",
       "      <td>SVR</td>\n",
       "      <td>0.269873</td>\n",
       "    </tr>\n",
       "    <tr>\n",
       "      <th>5</th>\n",
       "      <td>Decision Tree</td>\n",
       "      <td>0.179642</td>\n",
       "    </tr>\n",
       "    <tr>\n",
       "      <th>1</th>\n",
       "      <td>Lasso</td>\n",
       "      <td>-0.003373</td>\n",
       "    </tr>\n",
       "  </tbody>\n",
       "</table>\n",
       "</div>"
      ],
      "text/plain": [
       "                Model Name  R2_Score\n",
       "6  Random Forest Regressor  0.417082\n",
       "7             XGBRegressor  0.378032\n",
       "8       AdaBoost Regressor  0.371123\n",
       "2                    Ridge  0.308753\n",
       "0        Linear Regression  0.307485\n",
       "4    K-Neighbors Regressor  0.289706\n",
       "3                      SVR  0.269873\n",
       "5            Decision Tree  0.179642\n",
       "1                    Lasso -0.003373"
      ]
     },
     "execution_count": 16,
     "metadata": {},
     "output_type": "execute_result"
    }
   ],
   "source": [
    "result_std_scaled_predictors = pd.DataFrame(list(zip(model_list, r2_list)), columns=['Model Name', 'R2_Score']).sort_values(by=[\"R2_Score\"],ascending=False)\n",
    "result_std_scaled_predictors"
   ]
  },
  {
   "cell_type": "markdown",
   "metadata": {},
   "source": [
    "### Robust Scaled Value Predictors"
   ]
  },
  {
   "cell_type": "code",
   "execution_count": 17,
   "metadata": {},
   "outputs": [
    {
     "name": "stdout",
     "output_type": "stream",
     "text": [
      "Linear Regression\n",
      "Model performance for Training set\n",
      "- Root Mean Squared Error: 0.1262\n",
      "- Mean Absolute Error: 0.0903\n",
      "- R2 Score: 0.3616\n",
      "----------------------------------\n",
      "Model performance for Test set\n",
      "- Root Mean Squared Error: 0.1846\n",
      "- Mean Absolute Error: 0.1438\n",
      "- R2 Score: -0.1108\n",
      "===================================\n",
      "\n",
      "\n",
      "Lasso\n",
      "Model performance for Training set\n",
      "- Root Mean Squared Error: 0.1579\n",
      "- Mean Absolute Error: 0.1232\n",
      "- R2 Score: 0.0000\n",
      "----------------------------------\n",
      "Model performance for Test set\n",
      "- Root Mean Squared Error: 0.1755\n",
      "- Mean Absolute Error: 0.1333\n",
      "- R2 Score: -0.0034\n",
      "===================================\n",
      "\n",
      "\n",
      "Ridge\n",
      "Model performance for Training set\n",
      "- Root Mean Squared Error: 0.1262\n",
      "- Mean Absolute Error: 0.0899\n",
      "- R2 Score: 0.3617\n",
      "----------------------------------\n",
      "Model performance for Test set\n",
      "- Root Mean Squared Error: 0.1801\n",
      "- Mean Absolute Error: 0.1398\n",
      "- R2 Score: -0.0569\n",
      "===================================\n",
      "\n",
      "\n"
     ]
    },
    {
     "name": "stdout",
     "output_type": "stream",
     "text": [
      "SVR\n",
      "Model performance for Training set\n",
      "- Root Mean Squared Error: 0.1078\n",
      "- Mean Absolute Error: 0.0812\n",
      "- R2 Score: 0.5340\n",
      "----------------------------------\n",
      "Model performance for Test set\n",
      "- Root Mean Squared Error: 0.1637\n",
      "- Mean Absolute Error: 0.1297\n",
      "- R2 Score: 0.1268\n",
      "===================================\n",
      "\n",
      "\n",
      "K-Neighbors Regressor\n",
      "Model performance for Training set\n",
      "- Root Mean Squared Error: 0.1124\n",
      "- Mean Absolute Error: 0.0749\n",
      "- R2 Score: 0.4931\n",
      "----------------------------------\n",
      "Model performance for Test set\n",
      "- Root Mean Squared Error: 0.1534\n",
      "- Mean Absolute Error: 0.1017\n",
      "- R2 Score: 0.2327\n",
      "===================================\n",
      "\n",
      "\n",
      "Decision Tree\n",
      "Model performance for Training set\n",
      "- Root Mean Squared Error: 0.0000\n",
      "- Mean Absolute Error: 0.0000\n",
      "- R2 Score: 1.0000\n",
      "----------------------------------\n",
      "Model performance for Test set\n",
      "- Root Mean Squared Error: 0.2415\n",
      "- Mean Absolute Error: 0.1631\n",
      "- R2 Score: -0.8998\n",
      "===================================\n",
      "\n",
      "\n",
      "Random Forest Regressor\n",
      "Model performance for Training set\n",
      "- Root Mean Squared Error: 0.0451\n",
      "- Mean Absolute Error: 0.0277\n",
      "- R2 Score: 0.9186\n",
      "----------------------------------\n",
      "Model performance for Test set\n",
      "- Root Mean Squared Error: 0.1636\n",
      "- Mean Absolute Error: 0.1173\n",
      "- R2 Score: 0.1284\n",
      "===================================\n",
      "\n",
      "\n",
      "XGBRegressor\n",
      "Model performance for Training set\n",
      "- Root Mean Squared Error: 0.0087\n",
      "- Mean Absolute Error: 0.0056\n",
      "- R2 Score: 0.9969\n",
      "----------------------------------\n",
      "Model performance for Test set\n",
      "- Root Mean Squared Error: 0.1828\n",
      "- Mean Absolute Error: 0.1349\n",
      "- R2 Score: -0.0888\n",
      "===================================\n",
      "\n",
      "\n",
      "AdaBoost Regressor\n",
      "Model performance for Training set\n",
      "- Root Mean Squared Error: 0.1179\n",
      "- Mean Absolute Error: 0.0879\n",
      "- R2 Score: 0.4423\n",
      "----------------------------------\n",
      "Model performance for Test set\n",
      "- Root Mean Squared Error: 0.1591\n",
      "- Mean Absolute Error: 0.1210\n",
      "- R2 Score: 0.1754\n",
      "===================================\n",
      "\n",
      "\n"
     ]
    }
   ],
   "source": [
    "# create list of training algorithms\n",
    "models = {\n",
    "    \"Linear Regression\": LinearRegression(),\n",
    "    \"Lasso\": Lasso(random_state=12),\n",
    "    \"Ridge\": Ridge(random_state=23),\n",
    "    \"SVR\": SVR(),\n",
    "    \"K-Neighbors Regressor\": KNeighborsRegressor(),\n",
    "    \"Decision Tree\": DecisionTreeRegressor(random_state=34),\n",
    "    \"Random Forest Regressor\": RandomForestRegressor(random_state=45),\n",
    "    \"XGBRegressor\": XGBRegressor(random_state=56),\n",
    "    \"AdaBoost Regressor\": AdaBoostRegressor(random_state=67)\n",
    "}\n",
    "model_list = []\n",
    "r2_list =[]\n",
    "\n",
    "# Define the train and test datasets\n",
    "X_train=X_train_rob_scaled\n",
    "X_test=X_test_rob_scaled\n",
    "\n",
    "# display the model evaluation for each algorithm\n",
    "for i in range(len(list(models))):\n",
    "    model = list(models.values())[i]\n",
    "    model.fit(X_train, y_train) # Train model\n",
    "\n",
    "    # Make predictions\n",
    "    y_train_pred = model.predict(X_train)\n",
    "    y_test_pred = model.predict(X_test)\n",
    "    \n",
    "    # Evaluate Train and Test dataset\n",
    "    model_train_mae , model_train_rmse, model_train_r2 = evaluate_model(y_train, y_train_pred)\n",
    "\n",
    "    model_test_mae , model_test_rmse, model_test_r2 = evaluate_model(y_test, y_test_pred)\n",
    "\n",
    "    \n",
    "    print(list(models.keys())[i])\n",
    "    model_list.append(list(models.keys())[i])\n",
    "    \n",
    "    print('Model performance for Training set')\n",
    "    print(\"- Root Mean Squared Error: {:.4f}\".format(model_train_rmse))\n",
    "    print(\"- Mean Absolute Error: {:.4f}\".format(model_train_mae))\n",
    "    print(\"- R2 Score: {:.4f}\".format(model_train_r2))\n",
    "\n",
    "    print('----------------------------------')\n",
    "    \n",
    "    print('Model performance for Test set')\n",
    "    print(\"- Root Mean Squared Error: {:.4f}\".format(model_test_rmse))\n",
    "    print(\"- Mean Absolute Error: {:.4f}\".format(model_test_mae))\n",
    "    print(\"- R2 Score: {:.4f}\".format(model_test_r2))\n",
    "    r2_list.append(model_test_r2)\n",
    "    \n",
    "    print('='*35)\n",
    "    print('\\n')"
   ]
  },
  {
   "cell_type": "code",
   "execution_count": 18,
   "metadata": {},
   "outputs": [
    {
     "data": {
      "text/html": [
       "<div>\n",
       "<style scoped>\n",
       "    .dataframe tbody tr th:only-of-type {\n",
       "        vertical-align: middle;\n",
       "    }\n",
       "\n",
       "    .dataframe tbody tr th {\n",
       "        vertical-align: top;\n",
       "    }\n",
       "\n",
       "    .dataframe thead th {\n",
       "        text-align: right;\n",
       "    }\n",
       "</style>\n",
       "<table border=\"1\" class=\"dataframe\">\n",
       "  <thead>\n",
       "    <tr style=\"text-align: right;\">\n",
       "      <th></th>\n",
       "      <th>Model Name</th>\n",
       "      <th>R2_Score</th>\n",
       "    </tr>\n",
       "  </thead>\n",
       "  <tbody>\n",
       "    <tr>\n",
       "      <th>4</th>\n",
       "      <td>K-Neighbors Regressor</td>\n",
       "      <td>0.232735</td>\n",
       "    </tr>\n",
       "    <tr>\n",
       "      <th>8</th>\n",
       "      <td>AdaBoost Regressor</td>\n",
       "      <td>0.175414</td>\n",
       "    </tr>\n",
       "    <tr>\n",
       "      <th>6</th>\n",
       "      <td>Random Forest Regressor</td>\n",
       "      <td>0.128368</td>\n",
       "    </tr>\n",
       "    <tr>\n",
       "      <th>3</th>\n",
       "      <td>SVR</td>\n",
       "      <td>0.126816</td>\n",
       "    </tr>\n",
       "    <tr>\n",
       "      <th>1</th>\n",
       "      <td>Lasso</td>\n",
       "      <td>-0.003373</td>\n",
       "    </tr>\n",
       "    <tr>\n",
       "      <th>2</th>\n",
       "      <td>Ridge</td>\n",
       "      <td>-0.056904</td>\n",
       "    </tr>\n",
       "    <tr>\n",
       "      <th>7</th>\n",
       "      <td>XGBRegressor</td>\n",
       "      <td>-0.088835</td>\n",
       "    </tr>\n",
       "    <tr>\n",
       "      <th>0</th>\n",
       "      <td>Linear Regression</td>\n",
       "      <td>-0.110838</td>\n",
       "    </tr>\n",
       "    <tr>\n",
       "      <th>5</th>\n",
       "      <td>Decision Tree</td>\n",
       "      <td>-0.899764</td>\n",
       "    </tr>\n",
       "  </tbody>\n",
       "</table>\n",
       "</div>"
      ],
      "text/plain": [
       "                Model Name  R2_Score\n",
       "4    K-Neighbors Regressor  0.232735\n",
       "8       AdaBoost Regressor  0.175414\n",
       "6  Random Forest Regressor  0.128368\n",
       "3                      SVR  0.126816\n",
       "1                    Lasso -0.003373\n",
       "2                    Ridge -0.056904\n",
       "7             XGBRegressor -0.088835\n",
       "0        Linear Regression -0.110838\n",
       "5            Decision Tree -0.899764"
      ]
     },
     "execution_count": 18,
     "metadata": {},
     "output_type": "execute_result"
    }
   ],
   "source": [
    "result_rob_scaled_predictors = pd.DataFrame(list(zip(model_list, r2_list)), columns=['Model Name', 'R2_Score']).sort_values(by=[\"R2_Score\"],ascending=False)\n",
    "result_rob_scaled_predictors"
   ]
  },
  {
   "cell_type": "markdown",
   "metadata": {},
   "source": [
    "### Conclusion"
   ]
  },
  {
   "cell_type": "markdown",
   "metadata": {},
   "source": [
    "The best r-squared value is resulted from the predictors that transformed using standard scaled method."
   ]
  },
  {
   "cell_type": "code",
   "execution_count": 23,
   "metadata": {},
   "outputs": [
    {
     "name": "stdout",
     "output_type": "stream",
     "text": [
      "The best model is: \n",
      "\n",
      "                Model Name  R2_Score\n",
      "6  Random Forest Regressor  0.417082\n"
     ]
    }
   ],
   "source": [
    "print(f\"The best model is: \\n\\n{result_std_scaled_predictors.head(1)}\")"
   ]
  },
  {
   "cell_type": "markdown",
   "metadata": {},
   "source": [
    "## Random Forest Regression"
   ]
  },
  {
   "cell_type": "code",
   "execution_count": 24,
   "metadata": {},
   "outputs": [
    {
     "name": "stdout",
     "output_type": "stream",
     "text": [
      "Accuracy of the model is 41.71\n"
     ]
    }
   ],
   "source": [
    "rf_model = RandomForestRegressor(random_state=45)\n",
    "rf_model = rf_model.fit(X_train_std_scaled, y_train)\n",
    "y_pred = rf_model.predict(X_test_std_scaled)\n",
    "score = r2_score(y_test, y_pred)*100\n",
    "print(\"Accuracy of the model is %.2f\" %score)"
   ]
  },
  {
   "cell_type": "markdown",
   "metadata": {},
   "source": [
    "### Hyperparameter Tuning on Random Forest Regression Model"
   ]
  },
  {
   "cell_type": "markdown",
   "metadata": {},
   "source": [
    "Let's try to improve the model accuracy value.\n",
    "\n",
    "With the grid search and randomized search cross-validation methods on the Random Forest Regressor defined parameters grid."
   ]
  },
  {
   "cell_type": "code",
   "execution_count": 25,
   "metadata": {},
   "outputs": [],
   "source": [
    "# import the libraries\n",
    "from sklearn.model_selection import GridSearchCV, RandomizedSearchCV\n",
    "\n",
    "# Define the parameter grid for RandomForestRegressor\n",
    "param_grid = {\n",
    "    'criterion': [\"squared_error\", \"absolute_error\", \"friedman_mse\", \"poisson\"],\n",
    "    'n_estimators': [100, 200, 300],\n",
    "    'max_depth': [10, 20, 30, None],\n",
    "    'min_samples_split': [2, 5, 10],\n",
    "    'min_samples_leaf': [1, 2, 4]\n",
    "}\n",
    "\n",
    "# Initialize the model\n",
    "model = RandomForestRegressor(random_state=45)\n"
   ]
  },
  {
   "cell_type": "markdown",
   "metadata": {},
   "source": [
    "#### Grid Search Cross-Validation"
   ]
  },
  {
   "cell_type": "code",
   "execution_count": 26,
   "metadata": {},
   "outputs": [
    {
     "name": "stdout",
     "output_type": "stream",
     "text": [
      "Best parameters found: {'criterion': 'poisson', 'max_depth': 20, 'min_samples_leaf': 4, 'min_samples_split': 10, 'n_estimators': 300}\n",
      "Best Model Test Set R2: 0.4151\n"
     ]
    }
   ],
   "source": [
    "# Set up the GridSearchCV\n",
    "grid_search = GridSearchCV(estimator=model, param_grid=param_grid, cv=5, n_jobs=-1, scoring='r2')\n",
    "\n",
    "# Define the train and test datasets\n",
    "X_train=X_train_std_scaled\n",
    "X_test=X_test_std_scaled\n",
    "\n",
    "# Fit the GridSearchCV to the data\n",
    "grid_search.fit(X_train, y_train)\n",
    "\n",
    "# Get the best parameters and the best model\n",
    "best_params = grid_search.best_params_\n",
    "best_model = grid_search.best_estimator_\n",
    "\n",
    "print(f\"Best parameters found: {best_params}\")\n",
    "\n",
    "# Make predictions on the test set\n",
    "y_test_pred = best_model.predict(X_test)\n",
    "\n",
    "# Evaluate the best model\n",
    "r2_value_gridsearch = r2_score(y_test, y_test_pred)\n",
    "print(f\"Best Model Test Set R2: {r2_value_gridsearch:.4f}\")"
   ]
  },
  {
   "cell_type": "markdown",
   "metadata": {},
   "source": [
    "#### Randomized Search Cross-Validation"
   ]
  },
  {
   "cell_type": "code",
   "execution_count": 27,
   "metadata": {},
   "outputs": [
    {
     "name": "stdout",
     "output_type": "stream",
     "text": [
      "Best parameters found: {'n_estimators': 300, 'min_samples_split': 5, 'min_samples_leaf': 4, 'max_depth': 20, 'criterion': 'squared_error'}\n",
      "Best Model Test Set R2: 0.4210\n"
     ]
    }
   ],
   "source": [
    "# Set up the RandomizedSearchCV\n",
    "rand_search = RandomizedSearchCV(estimator=model, param_distributions=param_grid, n_iter = 50, cv = 5, n_jobs = -1, scoring='r2', random_state=99)\n",
    "\n",
    "# Define the train and test datasets\n",
    "X_train=X_train_std_scaled\n",
    "X_test=X_test_std_scaled\n",
    "\n",
    "# Fit the GridSearchCV to the data\n",
    "rand_search.fit(X_train, y_train)\n",
    "\n",
    "# Get the best parameters and the best model\n",
    "best_params = rand_search.best_params_\n",
    "best_model = rand_search.best_estimator_\n",
    "\n",
    "print(f\"Best parameters found: {best_params}\")\n",
    "\n",
    "# Make predictions on the test set\n",
    "y_test_pred = best_model.predict(X_test)\n",
    "\n",
    "# Evaluate the best model\n",
    "best_r2_randomizedsearch = r2_score(y_test, y_test_pred)\n",
    "print(f\"Best Model Test Set R2: {best_r2_randomizedsearch:.4f}\")"
   ]
  },
  {
   "cell_type": "markdown",
   "metadata": {},
   "source": [
    "### Conclusion"
   ]
  },
  {
   "cell_type": "markdown",
   "metadata": {},
   "source": [
    "The hyperparameter tuning experiments with randomized search cross-validation slightly improve the model performance, so we will apply its parameters to the model with the predictors transformed by standard scale method."
   ]
  },
  {
   "cell_type": "code",
   "execution_count": 40,
   "metadata": {},
   "outputs": [
    {
     "name": "stdout",
     "output_type": "stream",
     "text": [
      "The acccuracy of the model is 42.099%\n"
     ]
    }
   ],
   "source": [
    "rf_model = RandomForestRegressor(n_estimators= 300, \n",
    "                                 min_samples_split= 5, \n",
    "                                 min_samples_leaf= 4, \n",
    "                                 max_depth= 20, \n",
    "                                 criterion= 'squared_error', \n",
    "                                 random_state=45\n",
    "                                 )\n",
    "rf_model = rf_model.fit(X_train_std_scaled, y_train)\n",
    "y_pred = rf_model.predict(X_test_std_scaled)\n",
    "score = r2_score(y_test, y_pred)*100\n",
    "print(f\"The acccuracy of the model is {score:.3f}%\")"
   ]
  },
  {
   "cell_type": "code",
   "execution_count": 41,
   "metadata": {},
   "outputs": [
    {
     "name": "stdout",
     "output_type": "stream",
     "text": [
      "Parameters used by model:\n",
      "\n",
      "{'bootstrap': True,\n",
      " 'ccp_alpha': 0.0,\n",
      " 'criterion': 'squared_error',\n",
      " 'max_depth': 20,\n",
      " 'max_features': 1.0,\n",
      " 'max_leaf_nodes': None,\n",
      " 'max_samples': None,\n",
      " 'min_impurity_decrease': 0.0,\n",
      " 'min_samples_leaf': 4,\n",
      " 'min_samples_split': 5,\n",
      " 'min_weight_fraction_leaf': 0.0,\n",
      " 'monotonic_cst': None,\n",
      " 'n_estimators': 300,\n",
      " 'n_jobs': None,\n",
      " 'oob_score': False,\n",
      " 'random_state': 45,\n",
      " 'verbose': 0,\n",
      " 'warm_start': False}\n"
     ]
    }
   ],
   "source": [
    "# check the parameters used by the model\n",
    "from pprint import pprint\n",
    "print('Parameters used by model:\\n')\n",
    "pprint(rf_model.get_params())"
   ]
  },
  {
   "cell_type": "code",
   "execution_count": 34,
   "metadata": {},
   "outputs": [
    {
     "data": {
      "text/html": [
       "<div>\n",
       "<style scoped>\n",
       "    .dataframe tbody tr th:only-of-type {\n",
       "        vertical-align: middle;\n",
       "    }\n",
       "\n",
       "    .dataframe tbody tr th {\n",
       "        vertical-align: top;\n",
       "    }\n",
       "\n",
       "    .dataframe thead th {\n",
       "        text-align: right;\n",
       "    }\n",
       "</style>\n",
       "<table border=\"1\" class=\"dataframe\">\n",
       "  <thead>\n",
       "    <tr style=\"text-align: right;\">\n",
       "      <th></th>\n",
       "      <th>Actual Value</th>\n",
       "      <th>Predicted Value</th>\n",
       "      <th>Difference</th>\n",
       "    </tr>\n",
       "  </thead>\n",
       "  <tbody>\n",
       "    <tr>\n",
       "      <th>343</th>\n",
       "      <td>0.850411</td>\n",
       "      <td>0.855127</td>\n",
       "      <td>-0.004717</td>\n",
       "    </tr>\n",
       "    <tr>\n",
       "      <th>615</th>\n",
       "      <td>0.840889</td>\n",
       "      <td>0.778856</td>\n",
       "      <td>0.062033</td>\n",
       "    </tr>\n",
       "    <tr>\n",
       "      <th>605</th>\n",
       "      <td>0.545658</td>\n",
       "      <td>0.613793</td>\n",
       "      <td>-0.068135</td>\n",
       "    </tr>\n",
       "    <tr>\n",
       "      <th>345</th>\n",
       "      <td>0.800437</td>\n",
       "      <td>0.784704</td>\n",
       "      <td>0.015733</td>\n",
       "    </tr>\n",
       "    <tr>\n",
       "      <th>476</th>\n",
       "      <td>0.259375</td>\n",
       "      <td>0.597991</td>\n",
       "      <td>-0.338616</td>\n",
       "    </tr>\n",
       "    <tr>\n",
       "      <th>...</th>\n",
       "      <td>...</td>\n",
       "      <td>...</td>\n",
       "      <td>...</td>\n",
       "    </tr>\n",
       "    <tr>\n",
       "      <th>717</th>\n",
       "      <td>0.891556</td>\n",
       "      <td>0.830172</td>\n",
       "      <td>0.061384</td>\n",
       "    </tr>\n",
       "    <tr>\n",
       "      <th>719</th>\n",
       "      <td>0.802243</td>\n",
       "      <td>0.713657</td>\n",
       "      <td>0.088587</td>\n",
       "    </tr>\n",
       "    <tr>\n",
       "      <th>305</th>\n",
       "      <td>0.600063</td>\n",
       "      <td>0.602476</td>\n",
       "      <td>-0.002414</td>\n",
       "    </tr>\n",
       "    <tr>\n",
       "      <th>639</th>\n",
       "      <td>0.272000</td>\n",
       "      <td>0.830835</td>\n",
       "      <td>-0.558835</td>\n",
       "    </tr>\n",
       "    <tr>\n",
       "      <th>486</th>\n",
       "      <td>0.850362</td>\n",
       "      <td>0.850781</td>\n",
       "      <td>-0.000419</td>\n",
       "    </tr>\n",
       "  </tbody>\n",
       "</table>\n",
       "<p>333 rows × 3 columns</p>\n",
       "</div>"
      ],
      "text/plain": [
       "     Actual Value  Predicted Value  Difference\n",
       "343      0.850411         0.855127   -0.004717\n",
       "615      0.840889         0.778856    0.062033\n",
       "605      0.545658         0.613793   -0.068135\n",
       "345      0.800437         0.784704    0.015733\n",
       "476      0.259375         0.597991   -0.338616\n",
       "..            ...              ...         ...\n",
       "717      0.891556         0.830172    0.061384\n",
       "719      0.802243         0.713657    0.088587\n",
       "305      0.600063         0.602476   -0.002414\n",
       "639      0.272000         0.830835   -0.558835\n",
       "486      0.850362         0.850781   -0.000419\n",
       "\n",
       "[333 rows x 3 columns]"
      ]
     },
     "execution_count": 34,
     "metadata": {},
     "output_type": "execute_result"
    }
   ],
   "source": [
    "pred_df=pd.DataFrame({'Actual Value':y_test,'Predicted Value':y_pred,'Difference':y_test-y_pred})\n",
    "pred_df"
   ]
  },
  {
   "cell_type": "code",
   "execution_count": 37,
   "metadata": {},
   "outputs": [
    {
     "data": {
      "image/png": "[encoded data removed]",
      "text/plain": [
       "<Figure size 640x480 with 1 Axes>"
      ]
     },
     "metadata": {},
     "output_type": "display_data"
    }
   ],
   "source": [
    "sns.regplot(x=y_test,y=y_pred,ci=None,color ='red');\n",
    "plt.xlabel('Actual');\n",
    "plt.ylabel('Predicted');"
   ]
  }
 ],
 "metadata": {
  "kernelspec": {
   "display_name": "venv",
   "language": "python",
   "name": "python3"
  },
  "language_info": {
   "codemirror_mode": {
    "name": "ipython",
    "version": 3
   },
   "file_extension": ".py",
   "mimetype": "text/x-python",
   "name": "python",
   "nbconvert_exporter": "python",
   "pygments_lexer": "ipython3",
   "version": "3.10.12"
  }
 },
 "nbformat": 4,
 "nbformat_minor": 2
}
